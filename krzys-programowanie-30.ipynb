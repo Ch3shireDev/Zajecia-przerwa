{
 "cells": [
  {
   "cell_type": "markdown",
   "metadata": {},
   "source": [
    "# Zajęcia z programowania 30\n",
    "\n",
    "## Zadanie 1\n",
    "\n",
    "Stwórz program który przyjmuje na wejściu zdanie złożone z wielu słów i drukuje to samo zdanie w odwróconym szyku słów.\n",
    "\n",
    "Przykład: program z podaną na wejściu wartością `pies w cieście` powinien wypisywać `cieście w pies`\n",
    "\n",
    "## Zadanie 2\n",
    "\n",
    "Stwórz program który będzie usuwał dublujące się słowa z podanego zdania i zwróci na wyjściu poprawione zdanie.\n",
    "\n",
    "Przykład: program z podaną na wejściu wartością `kobyła ma ma ma mały mały bok` powinien zwrócić `kobyła ma mały bok`.\n",
    "\n",
    "## Zadanie 3\n",
    "\n",
    "Stwórz program, który na wejściu przyjmuje dwa słowa o dowolnych długościach, a na wyjściu wyrzuca te słowa powtórzone tyle razy, że są tej samej długości.\n",
    "\n",
    "Przykład: wartości podane na wejściu `pies` i `kot` powinny skutkować następującymi tekstami:\n",
    "\n",
    "```\n",
    "piespiespies\n",
    "kotkotkotkot\n",
    "```"
   ]
  }
 ],
 "metadata": {
  "kernelspec": {
   "display_name": "Python 3",
   "language": "python",
   "name": "python3"
  },
  "language_info": {
   "codemirror_mode": {
    "name": "ipython",
    "version": 3
   },
   "file_extension": ".py",
   "mimetype": "text/x-python",
   "name": "python",
   "nbconvert_exporter": "python",
   "pygments_lexer": "ipython3",
   "version": "3.8.5"
  }
 },
 "nbformat": 4,
 "nbformat_minor": 4
}
