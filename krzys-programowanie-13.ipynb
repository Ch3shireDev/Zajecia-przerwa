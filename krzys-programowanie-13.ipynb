{
 "cells": [
  {
   "cell_type": "markdown",
   "metadata": {},
   "source": [
    "# Zajecia 13\n",
    "\n",
    "## Zadanie 1\n",
    "\n",
    "Stwórz program który powtórzy pięć razy następującą operację:\n",
    "\n",
    "```\n",
    "wyznacz c jako sumę a i b\n",
    "do a przypisz wartość b\n",
    "do b przypisz wartość c\n",
    "```\n",
    "\n",
    "Wypisz na każdym kroku wartości `a, b, c`. Wartości początkowe `a` i `b` to 2 i 1.\n",
    "\n",
    "## Zadanie 2\n",
    "\n",
    "Stwórz wariant programu który powtórzy `n` razy wyżej przedstawioną operację. Liczba `n` powinna być pobierana od użytkownika.\n",
    "\n",
    "## Zadanie 3\n",
    "\n",
    "Stwórz wariant programu który zwróci dwie ostatnie cyfry uzyskanej liczby w postaci nowej liczby.\n",
    "\n",
    "## Zadanie 4\n",
    "\n",
    "Rozwiąż następujące zadanie:\n",
    "\n",
    "![](./images/lucas.png)"
   ]
  },
  {
   "cell_type": "markdown",
   "metadata": {},
   "source": [
    "## Zadanie 5\n",
    "\n",
    "Napisz program który przyjmuje od użytkownika dwie liczby, a następnie przeprowadza symulację - do pierwszej liczby dodaje wartość 1 `n` razy - wypisując za każdym razem wartość pośrednią - gdzie `n` jest wartością drugiej liczby.\n",
    "\n",
    "## Zadanie 6\n",
    "\n",
    "Napisz wariant poprzedniego zadania który pobiera od użytkownika `n` kolejnych liczb i przeprowadza symulację z użyciem wszystkich liczb pokolei, dodając do początkowej wartości 0. Np. dla podanych wartości `3 2 4` symulacja będzie następująca:\n",
    "\n",
    "```\n",
    "1\n",
    "2\n",
    "3\n",
    "Stop\n",
    "4\n",
    "5\n",
    "Stop\n",
    "6\n",
    "7\n",
    "8\n",
    "9\n",
    "Stop\n",
    "```"
   ]
  },
  {
   "cell_type": "markdown",
   "metadata": {},
   "source": [
    "## Zadanie 7\n",
    "\n",
    "Napisz wariant powyższego zadania, na przemian dodając i odejmując po jednej wartości.\n",
    "\n",
    "## Zadanie 8\n",
    "\n",
    "Rozwiąż następujące zadanie:\n",
    "\n",
    "![](./images/cukierki.png)"
   ]
  },
  {
   "cell_type": "markdown",
   "metadata": {},
   "source": [
    "## Zadanie 9\n",
    "\n",
    "Stwórz program który pobiera od użytkownika dwie liczby a następnie sprawdza, czy pierwsza jest podzielna przez drugą.\n",
    "\n",
    "## Zadanie 10\n",
    "\n",
    "Stwórz program, który przyjmuje listę liczb od użytkownika, a następnie sprawdza czy wśród nich jest jakaś podzielna przez 5.\n",
    "\n",
    "## Zadanie 11\n",
    "\n",
    "Stwórz wariant powyższego zadania, w którym sprawdzamy, czy wewnątrz listy liczb jest jakaś liczba podzielna przez podaną przez uzytkownika.\n",
    "\n",
    "## Zadanie 12\n",
    "\n",
    "Stwórz wariant powyższego zadania - znajdź w liście liczb pary wszystkich liczb w takiej relacji, że pierwsza z nich jest podzielna przez drugą z nich."
   ]
  }
 ],
 "metadata": {
  "kernelspec": {
   "display_name": "Python 3",
   "language": "python",
   "name": "python3"
  },
  "language_info": {
   "codemirror_mode": {
    "name": "ipython",
    "version": 3
   },
   "file_extension": ".py",
   "mimetype": "text/x-python",
   "name": "python",
   "nbconvert_exporter": "python",
   "pygments_lexer": "ipython3",
   "version": "3.8.3"
  }
 },
 "nbformat": 4,
 "nbformat_minor": 4
}
