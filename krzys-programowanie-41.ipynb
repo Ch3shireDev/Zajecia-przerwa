{
 "cells": [
  {
   "cell_type": "markdown",
   "id": "tropical-carter",
   "metadata": {},
   "source": [
    "# Zajęcia z programowania\n",
    "\n",
    "![](./all/grafy/gwiazda.png)\n",
    "\n"
   ]
  },
  {
   "cell_type": "markdown",
   "id": "powered-miami",
   "metadata": {},
   "source": [
    "![](./all/grafy/wycieczka.png)"
   ]
  },
  {
   "cell_type": "markdown",
   "id": "distinguished-prison",
   "metadata": {},
   "source": [
    "![](./all/przetwarzanie/przekladanie.png)"
   ]
  }
 ],
 "metadata": {
  "kernelspec": {
   "display_name": "Python 3",
   "language": "python",
   "name": "python3"
  },
  "language_info": {
   "codemirror_mode": {
    "name": "ipython",
    "version": 3
   },
   "file_extension": ".py",
   "mimetype": "text/x-python",
   "name": "python",
   "nbconvert_exporter": "python",
   "pygments_lexer": "ipython3",
   "version": "3.9.1"
  }
 },
 "nbformat": 4,
 "nbformat_minor": 5
}
