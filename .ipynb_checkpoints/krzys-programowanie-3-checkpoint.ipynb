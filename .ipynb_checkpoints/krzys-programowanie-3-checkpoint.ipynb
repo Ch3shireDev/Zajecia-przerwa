{
 "cells": [
  {
   "cell_type": "markdown",
   "metadata": {},
   "source": [
    "# Zadanie (Zawijanie)\n",
    "\n",
    "Antek  wpisuje litery w  kwadrat  wierszami,  przy  czym długość  boku  kwadratu  jest  tak  dobrana, by cały napis się w nim mieścił i jak najmniej komórek zostawało pustych. Następnie przesuwa litery po  obwodach  kolejnych  kwadratów. Rozpatruje litery  na  zewnętrznym obwodzie: pierwsza przechodzi  w  miejsce  drugiej,  druga – trzeciej  itd.  Potem przestawia  litery w wewnętrznym obwodzie, itd. Na koniec odczytuje litery wierszami pomijając puste komórki.\n",
    "\n",
    "![](./images/koduj.png)\n",
    "\n",
    "Napisz funkcję `koduj(napis, ile)`, której wynikiem jest napis przesunięty `ile` razy według przepisu Antka. Pierwszym  parametrem jest napis złożony z małych liter alfabetu łacińskiego o długości od 1 do 10000 znaków, a drugim liczba z zakresu 1 do 1000. \n",
    "\n",
    "## Przykłady\n",
    "\n",
    "- Wynikiem `koduj(\"tajnawiadomoscantka\", 1)` jest `\"wtajnmoiaantsdokaca\"`.\n",
    "- Wynikiem `koduj(\"tajniak\", 8)` jest `\"tajniak\"`.\n",
    "- Wynikiem `koduj(\"spotkanieodrugiejgodzinienaparkingu\", 2)` jest `\"unspotodgiekenizoakaeidripanjgnguri\"`.\n",
    "\n",
    "## Zadanie 1\n",
    "\n",
    "Stwórz funkcję która dla danego słowa o długości `n` znajduje minimalny kwadrat który mieści całe słowo wewnątrz.\n",
    "\n",
    "## Zadanie 2\n",
    "\n",
    "Stwórz funkcję, która zamieni słowo na listę list reprezentującą kwadrat liter.\n",
    "\n",
    "## Zadanie 3\n",
    "\n",
    "Stwórz funkcję odwrotną do poprzedniej, która listę list reprezentującą kwadrat liter zamieni na pojedyczne słowo.\n",
    "\n",
    "## Zadanie 4\n",
    "\n",
    "Stwórz procedurę która wypisze wszystkie kolejne pozycje na obwodzie kwadratu 6x6, zaczynając od pozycji (0,0).\n",
    "\n",
    "## Zadanie 5\n",
    "\n",
    "Zamień procedurę z poprzedniego zadania na bardziej ogólny przypadek, dla kwadratu `n`x`n`.\n",
    "\n",
    "## Zadanie 6\n",
    "\n",
    "Zamień procedurę z poprzedniego zadania na jeszcze bardziej ogólny przypadek, który bierze kolejne pierścienie wewnątrz kwadratu i przechodzi po ich elementach."
   ]
  },
  {
   "cell_type": "markdown",
   "metadata": {},
   "source": [
    "# Zadanie (Ślimak)\n",
    "\n",
    "Szyfrujemy słowo zapisując je w formie ślimaka (druga litera nad pierwszą, trzecia po prawej stronie drugiej, czwarta pod trzecią itd. dookoła), a następnie czytamy wierszami od lewej do prawej. Na przykład zapisane w formie ślimaka słowo `abcdefghijklmnopqrstuvwxy` odczytamy jako `yjklmxibcnwhadovgfeputsrq`.\n",
    "\n",
    "![](./images/slimak.png)\n",
    "\n",
    "Napisz funkcję `szyfr(slowa)`, której daną jest lista słów do zaszyfrowania, a wynikiem jest lista zaszyfrowanych słów według przedstawionego sposobu.\n",
    "\n",
    "## Przykłady:\n",
    "\n",
    "- Wynikiem \t`szyfr(['abc', 'defg', 'hijkl'])` \tjest `['bca', 'efdg', 'ijhkl']`.\n",
    "- Wynikiem \t`szyfr(['konkurs', 'logia'])` \tjest `['onkksru', 'oglia']`.\n",
    "\n",
    "## Zadanie 1\n",
    "\n",
    "Dla danego słowa o długości `n` znajdź rozmiar minimalnego kwadratu który zmieści to słowo.\n",
    "\n",
    "## Zadanie 2\n",
    "\n",
    "Stwórz listę list reprezentującą kwadrat w który będą wpisywane litery słowa.\n",
    "\n",
    "## Zadanie 3\n",
    "\n",
    "Wiedząc, że ślimak postępuje według reguły: +1, +1, +2, +2, +3, +3, +4, +4, znajdź ogólną zasadę pozwalającą na podjęcie decyzji w które miejsce wpisać kolejną literę w ślimaku."
   ]
  }
 ],
 "metadata": {
  "kernelspec": {
   "display_name": "Python 3",
   "language": "python",
   "name": "python3"
  },
  "language_info": {
   "codemirror_mode": {
    "name": "ipython",
    "version": 3
   },
   "file_extension": ".py",
   "mimetype": "text/x-python",
   "name": "python",
   "nbconvert_exporter": "python",
   "pygments_lexer": "ipython3",
   "version": "3.8.1"
  }
 },
 "nbformat": 4,
 "nbformat_minor": 4
}
