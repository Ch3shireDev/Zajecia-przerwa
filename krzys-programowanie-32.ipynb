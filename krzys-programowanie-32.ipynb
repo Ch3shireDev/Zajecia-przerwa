{
 "cells": [
  {
   "cell_type": "markdown",
   "metadata": {},
   "source": [
    "# Zajęcia z programowania 32\n",
    "\n",
    "## Zadanie 1 (Robot)\n",
    "\n",
    "Robot porusza się od lewego do prawego końca korytarza. Został tak zaprogramowany, że wykonuje tylko dwie podstawowe czynności: idzie naprzód o 1 krok lub zawraca, gdy nie może pójść naprzód. Na początku robot stoi w lewym końcu korytarza, jest skierowany w kierunku prawego i jest naładowany.\n",
    "Po uruchomieniu porusza się do drugiego końca, a potem zawraca. Wykonując czynności (ruch lub zawracanie) traci energię, więc co jakiś czas musi zostać doładowany. Doładowanie nie jest jednak pełne, każde kolejne umożliwia wykonanie o jedną czynność mniej niż poprzednie.\n",
    "Napisz dwuparametrową funkcję robot. Pierwszy parametr określa liczbę czynności, jaką robot może wykonać na pełnym naładowaniu, drugi długość korytarza wyrażoną w krokach robota. Oba parametry są liczbami naturalnymi od 1 do 1000. Wynikiem funkcji jest odległość robota od lewego końca po wykonaniu wszystkich możliwych czynności.\n",
    "\n",
    "### Przykład 1\n",
    "\n",
    "![](./images/robot1.png)\n",
    "\n",
    "Dla wartości pierwszego naładowania równej 5 i długości korytarza 10.\n",
    "\n",
    "Robot po pierwszym naładowaniu idzie 5 kroków, po drugim naładowaniu 4 kroki, po trzecim 1 krok, zawraca i idzie 1 krok, po czwartym naładowaniu 2 kroki, a po ostatnim 1 krok. Odległość od lewego końca wynosi 6.\n",
    "\n",
    "### Przykład 2\n",
    "\n",
    "![](./images/robot2.png)\n",
    "\n",
    "Dla wartości pierwszego naładowania równej 6 i długości korytarza 7.\n",
    "\n",
    "Robot po pierwszym naładowaniu idzie 6 kroków, po drugim naładowaniu 1 krok, zawraca, a potem 3 kroki, po trzecim 4 kroki, po czwartym zawraca i idzie 2 kroki, po piątym idzie 2 kroki, a po ostatnim 1. Odległość od lewego końca wynosi 5."
   ]
  },
  {
   "cell_type": "markdown",
   "metadata": {},
   "source": [
    "### Zadanie 2\n",
    "\n",
    "Staś układa na stole sześcienne klocki tej samej wielkości. Na każdym widnieje jedna z wielkich liter alfabetu łacińskiego. Klocki układane są rzędami (wierszami). Każdy rząd rozpoczyna się przy lewej krawędzi stołu. Pierwszy rząd zawiera jeden klocek, drugi – dwa, trzeci – trzy, …, itd. Ostatni rząd może być krótszy.\n",
    "\n",
    "Napisz jednoparametrową funkcję kolit, której parametrem jest niepuste słowo długości\n",
    "co najwyżej 1 000, zawierające litery widniejące na kolejnych klockach. Wynikiem funkcji jest liczba tych kolumn w układance Stasia, w których wszystkie litery są identyczne.\n",
    "\n",
    "#### Przykłady\n",
    "- wynikiem `kolit('ABCDEFGH')` jest `1` (ostatnia kolumna), \n",
    "- wynikiem `kolit('ALAMAKRABY')` jest 2 (druga i ostatnia)."
   ]
  },
  {
   "cell_type": "markdown",
   "metadata": {},
   "source": [
    "## Zadanie 3\n",
    "\n",
    "![](./images/a.png)"
   ]
  }
 ],
 "metadata": {
  "kernelspec": {
   "display_name": "Python 3",
   "language": "python",
   "name": "python3"
  },
  "language_info": {
   "codemirror_mode": {
    "name": "ipython",
    "version": 3
   },
   "file_extension": ".py",
   "mimetype": "text/x-python",
   "name": "python",
   "nbconvert_exporter": "python",
   "pygments_lexer": "ipython3",
   "version": "3.8.5"
  }
 },
 "nbformat": 4,
 "nbformat_minor": 4
}
