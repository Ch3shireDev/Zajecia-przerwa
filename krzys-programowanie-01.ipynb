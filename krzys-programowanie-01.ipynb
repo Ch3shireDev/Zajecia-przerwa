{
 "cells": [
  {
   "cell_type": "markdown",
   "metadata": {},
   "source": [
    "# Zadania z zajęć\n",
    "\n",
    "## Zadanie 1\n",
    "\n",
    "Stwórz funkcję `zamien_litere(litera)` która przyjmuje na wejściu małą literę alfabetu łacińskiego (od `a` do `z`, bez polskich liter), a zwraca na wyjściu liczbę według następującej zasady:\n",
    "\n",
    "- jeśli litera jest z zakresu od `a` do `m`, zwraca kolejną liczbę od 21 do 33 - tj. a ma wartość 21, b ma wartość 22, itd.\n",
    "- jeśli litera jest z zakresu od `n` do `z`, zwraca kolejną liczbę od 41 do 53 - tj. n ma wartość 41, o ma wartość 42, itd.\n",
    "\n",
    "Postaraj się zrobić to zadanie sprytnie, tzn. bez pisania 26 przypadków `if`.\n",
    "\n",
    "Za przykład weź następujący skrypt:\n",
    "\n",
    "```python\n",
    "def inny_zamien(litera):\n",
    "    #sprawdzam, czy nasza litera jest przed czy za literą n\n",
    "    if litera < 'n': \n",
    "        # jeśli tak, to dopisuję wartość 10. Litera a ma wartość 10, litera b wartość 11, i tak dalej\n",
    "        return 10 + ord(litera) - ord('a')\n",
    "    else:\n",
    "        # jeśli nie, to dopisuję wartość 30. Litera n ma wartość 30, litera o wartość 31, i tak dalej\n",
    "        return 30 + ord(litera) - ord('n')\n",
    "```\n",
    "\n",
    "### Przykładowe testy\n",
    "\n",
    "```python\n",
    "assert zamien_litere('a') == 21\n",
    "assert zamien_litere('b') == 22\n",
    "assert zamien_litere('k') == 31\n",
    "assert zamien_litere('m') == 33\n",
    "assert zamien_litere('n') == 41\n",
    "assert zamien_litere('z') == 53\n",
    "```\n"
   ]
  },
  {
   "cell_type": "markdown",
   "metadata": {},
   "source": [
    "## Zadanie 2\n",
    "\n",
    "Korzystając z napisanej w poprzednim zadaniu funkcji `zamien_litere(litera)` stwórz funkcję `zamien_slowo(slowo)`, która przyjmuje na wejściu słowo - ciąg liter, a zwraca na wyjściu listę kolejnych liczb odpowiadających wartościom zwracanym przez funkcję `zamien_litere`.\n",
    "\n",
    "### Przykłady rozwiązań\n",
    "\n",
    "- `zamien_slowo('abc')` powinno zwrócić `[21, 22, 23]`.\n",
    "- `zamien_slowo('kopytko')` powinno zwrócić `[31, 42, 43, 52, 47, 31, 42]`.\n",
    "\n",
    "### Skrypt pomocniczy\n",
    "\n",
    "Możesz zastanawiać się w jaki sposób stworzyć listę wyników jakiejś funkcji. Proponuję wzorować się na następującym rozwiązaniu:\n",
    "\n",
    "```python\n",
    "def podwojone(x):\n",
    "    #funkcja podwajajaca litere\n",
    "    return x*2\n",
    "\n",
    "def podwaja_slowo(slowo):\n",
    "    #funkcja podwaja wszystkie litery w slowie.\n",
    "    #przykład podwaja_slowo('kopytko') zwraca ['kk', 'oo', 'pp', 'yy', 'tt', 'kk', 'oo']\n",
    "    tab = []\n",
    "    for x in slowo:\n",
    "        nowa_litera = podwojone(x)\n",
    "        tab.append(nowa_litera)\n",
    "    return tab\n",
    "```"
   ]
  },
  {
   "cell_type": "markdown",
   "metadata": {},
   "source": [
    "## Zadanie 3\n",
    "\n",
    "Stwórz funkcję odwrotną do `zamien_litere(litera)`, o nazwie `zamien_liczbe(liczba)`. Działa ona dokładnie odwrotnie do `zamien_litere`, tj:\n",
    "\n",
    "- liczbę 31 zamienia na literę `a`\n",
    "- liczbę 32 zamienia na literę `b`\n",
    "- ...\n",
    "- liczbę 33 zamienia na literę `m`\n",
    "- liczbę 41 zamienia na literę `n`\n",
    "\n",
    "i tak dalej.\n",
    "\n",
    "### Wskazówka\n",
    "\n",
    "Operacją odwrotną do `ord` jest `chr`."
   ]
  },
  {
   "cell_type": "markdown",
   "metadata": {},
   "source": [
    "## Zadanie 4\n",
    "\n",
    "Stwórz funkcję `uzyskaj_slowo(tab)`, która każdą liczbę z `tab` zamieni na literę według funkcji `zamien_liczbe`. Następnie litery połącz w słowo.\n",
    "\n",
    "### Przykładowe wyniki\n",
    "\n",
    "- `uzyskaj_slowo([31, 42, 43, 52, 47, 31, 42])` powinno zwrócić wartość `'kopytko'`.\n",
    "- `uzyskaj_slowo([21, 22, 23])` powinno zwrócić wartość `'abc'`."
   ]
  },
  {
   "cell_type": "markdown",
   "metadata": {},
   "source": [
    "## Zadanie 5\n",
    "\n",
    "Stwórz funkcję `rozdziel(liczba)`, która podaną liczbę o parzystej liczbie cyfr rozdzieli na listę liczb dwucyfrowych. Np:\n",
    "\n",
    "- `rozdziel(6633)` powinno zwracać `[66, 33]`.\n",
    "- `rozdziel(112233)` powinno zwracać `[11, 22, 33]`.\n",
    "\n",
    "### Podpowiedź 1\n",
    "\n",
    "Skorzystaj z pętli `for i in range(len(slowo)//2)` by wziąć parami elementy słowa - `slowo[2*i]` oraz `slowo[2*i+1]`.\n",
    "\n",
    "### Podpowiedź 2\n",
    "\n",
    "W Pythonie mamy bardzo prostą funkcję zamieniającą słowa na liczby, `int`. Jej działanie wygląda następująco:\n",
    "\n",
    "- `int('66')` zwraca wartość liczbową `66`."
   ]
  },
  {
   "cell_type": "markdown",
   "metadata": {},
   "source": [
    "## Zadanie 6\n",
    "\n",
    "Stwórz funkcję `deszyfr(tab)`, która każdą liczbę z listy liczb najpierw rozdzieli używając funkcji `rozdziel` na tablicę liczb dwucyfrowych, a następnie tak uzyskaną tablicę zamieni na słowo funkcją `uzyskaj_slowo(tab)`. Szczegóły w zadaniu poniżej."
   ]
  },
  {
   "cell_type": "markdown",
   "metadata": {},
   "source": [
    "## Zadanie: Szyfr\n",
    "\n",
    "Kolejne litery alfabetu łacińskiego (jest ich 26) uporządkowano w sposób przedstawiony poniżej:\n",
    "\n",
    "![](./images/slownik.png)\n",
    "\n",
    "Maszyna  szyfrująca  koduje  napisy  przypisując  każdej literze  liczbę  otrzymaną  w  następujący sposób: do numeru kolumny z literą dodajemy liczbę przypisaną do wiersza. Następnie otrzymane liczby sklejane są w jedną liczbę. Na przykład kodem napisu `\"krab\"` jest liczba `31452122`.\n",
    "\n",
    "Napisz  funkcję `deszyfr(lista)`, której  parametrem  jest  lista  złożona  z  nie  więcej  niż  100 liczb co najwyżej 60  cyfrowych o parzystej długości odpowiadających wyrazom zaszyfrowanym przez maszynę. Wynikiem funkcji jest lista odszyfrowanych napisów.\n",
    "\n",
    "Przykłady:\n",
    "\n",
    "- Wynikiem `deszyfr([31452122])` jest `[\"krab\"]`.\n",
    "- Wynikiem `deszyfr([232821473121, 22212252, 30212729])` jest `[\"chatka\", \"baby\", \"jagi\"]`.\n",
    "- Wynikiem `deszyfr([332131425021, 4321412925413121])` jest `[\"makowa\", \"panienka\"]`."
   ]
  },
  {
   "cell_type": "code",
   "execution_count": null,
   "metadata": {},
   "outputs": [],
   "source": []
  }
 ],
 "metadata": {
  "kernelspec": {
   "display_name": "Python 3",
   "language": "python",
   "name": "python3"
  },
  "language_info": {
   "codemirror_mode": {
    "name": "ipython",
    "version": 3
   },
   "file_extension": ".py",
   "mimetype": "text/x-python",
   "name": "python",
   "nbconvert_exporter": "python",
   "pygments_lexer": "ipython3",
   "version": "3.8.1"
  }
 },
 "nbformat": 4,
 "nbformat_minor": 4
}
