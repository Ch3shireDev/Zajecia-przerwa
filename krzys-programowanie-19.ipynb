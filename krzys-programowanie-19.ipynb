{
 "cells": [
  {
   "cell_type": "markdown",
   "metadata": {},
   "source": [
    "# Zajęcia z programowania 19\n",
    "\n",
    "## Zadanie 1\n",
    "\n",
    "Stwórz program który sekwencję liter NSWE przekształci na zmiany położeń na mapie. To znaczy - mamy mapę dwuwymiarową określaną współrzędnymi x,y, gdzie x jest w poziomie, a y jest w pionie. N odpowiada krokowi na północ, czyli zmianę wartości y o +1 - odpowiednio, S to zmiana wartości y o -1. E jest krokiem na wschód, czyli odpowiada zmianie współrzędnej x o +1, W jest krokiem na zachód, odpowiada zmianie współrzędnej x o -1.\n",
    "\n",
    "## Zadanie 2\n",
    "\n",
    "Poprzednie zadanie rozszerzymy następująco - chcemy wiedzieć na jakiej pozycji znajdzie się nasz obiekt po wykonaniu serii kroków opisanych literami NSWE. Przykład - po kroki NNNW powinny nas przenieść z pozycji (0,0) na pozycję (-1,3), ponieważ wykonaliśmy trzy kroki na północ (\"w górę\") i jeden krok na zachód (\"w lewo\").\n",
    "\n",
    "## Zadanie 3 (Logia 10, 2 etap, Zadanie 3)\n",
    "\n",
    "Robot Gerard potrafi wykonać tylko cztery polecenia, nakazujące mu przejść w jedną z czterech stron świata. Napisz funkcję `robot(trasa)`, której wartością jest liczba punktów trasy, w których robot znalazł się więcej niż jeden raz. Parametr :trasa jest słowem opisującym sekwencję poleceń, w którym mogą występować jedynie litery N, S, W oraz E. Litery te oznaczają odpowiednio polecenie ruchu w kierunku północnym, południowym, zachodnim oraz wschodnim. Zakładamy, że trasa jest tak ułożona, że każdy z jej odcinków robot przechodzi tylko raz. Gerard może wykonać maksymalnie 500 ruchów.\n",
    "\n",
    "- Wynikiem `robot('NESW')` jest 1.\n",
    "- Wynikiem \t`robot('NNESWWSEE')` jest 2.\n",
    "\n",
    "## Zadanie 4 (Logia 14, 2 etap, Zadanie 2)\n",
    "\n",
    "Robot chodzi po płaszczyźnie, w każdym kroku przebywa jednostkową odległość w jednym z czterech podstawowych kierunków: NWSE.\n",
    "\n",
    "Napisz funkcję `poler(trasa)`, której parametrem jest słowo określające trasę robota, a wynikiem – pole najmniejszego prostokąta, o pionowych i poziomych bokach, zawierającego całą trasę.\n",
    "\n",
    "- Wynikiem `poler(\"NNSE\")` jest 2,\n",
    "- Wynikiem `poler(\"WWWNESSSS\")` jest 12,\n",
    "\n",
    "## Zadanie 5\n",
    "\n",
    "Stwórz program, w którym tym razem policzysz liczbę unikalnych pól odwiedzonych przez robota na podstawie zapisu jego trasy.\n"
   ]
  }
 ],
 "metadata": {
  "kernelspec": {
   "display_name": "Python 3",
   "language": "python",
   "name": "python3"
  },
  "language_info": {
   "codemirror_mode": {
    "name": "ipython",
    "version": 3
   },
   "file_extension": ".py",
   "mimetype": "text/x-python",
   "name": "python",
   "nbconvert_exporter": "python",
   "pygments_lexer": "ipython3",
   "version": "3.8.3"
  }
 },
 "nbformat": 4,
 "nbformat_minor": 4
}
