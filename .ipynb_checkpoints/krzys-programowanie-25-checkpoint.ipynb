{
 "cells": [
  {
   "cell_type": "markdown",
   "metadata": {},
   "source": [
    "# Zajęcia z programowania 25\n",
    "\n",
    "## Zadanie 1\n",
    "\n",
    "Napisz funkcję która ze zbioru **liczb całkowitych** wyłoni parę o najwyższym iloczynie.\n",
    "\n",
    "## Zadanie 2\n",
    "\n",
    "Napisz funkcję, która z przestrzeni liczb naturalnych mniejszych od $n$ wyłoni parę liczb spełniających następujące warunki:\n",
    "\n",
    "- liczby są różne \n",
    "- ich zapis dziesiętny są wzajemnie lustrzane do siebie (np. 123 oraz 321)\n",
    "- ich suma jest możliwie największa\n",
    "\n",
    "## Zadanie 3\n",
    "\n",
    "Napisz funkcję która w podanej liście liczb znajdzie parę różnych liczb o następujących parametrach:\n",
    "\n",
    "- są różne\n",
    "- mają maksymalną wartość ustaloną według wzoru:\n",
    "\n",
    "    $$P = a*b + 2d,$$\n",
    "    \n",
    "    gdzie $d$ oznacza odległość pomiędzy tymi wartościami w liście\n",
    "    \n",
    "## Zadanie 4\n",
    "\n",
    "Napisz funkcję, która w podanym słowie znajdzie parę liter maksymalizujące wartość:\n",
    "\n",
    "$$P = |a-b| + d,$$\n",
    "\n",
    "gdzie $|a-b|$ to odległość liter od siebie w alfabecie (np. a jest odległe od b o 1, a z od a o 25), a $d$ to odległość liter od siebie w słowie (np. w słowie abcd a jest odległe od b o 1, a b jest odległe od d o 2).\n",
    "\n",
    "## Zadanie 2, Logia 18, 2 etap - neony\n",
    "\n",
    "W Turtlandii przygotowują neon do zawieszenia na dwóch słupach. Słupy stoją w rzędzie, odległość pomiędzy dwoma sąsiednimi wynosi 2. Dział marketingu uzależnia wybór słupów od oceny zdefiniowanej jako suma ich wysokości i odległości między nimi.\n",
    "\n",
    "Napisz jednoparametrową funkcję neon, której wynikiem jest najwyższa możliwa ocena. Parametr jest listą wysokości kolejnych słupów (ma co najmniej 2 elementy, co najwyżej 500). Wysokość każdego słupa wynosi od 1 do 10 000.\n",
    "\n",
    "### Przykłady\n",
    "\n",
    "- wynikiem `neon([10, 4, 5, 7, 1, 4, 1])` jest `24` (bo najwyższa ocena będzie uzyskana przy wyborze pierwszego i przedostatniego słupa, 24 = 10 + 4 + 5 · 2), \n",
    "- wynikiem `neon([1, 10, 1])` jest `13` (13 = 1 + 10 + 1 · 2, też 13 = 10 + 1 + 1 · 2)\n",
    "\n",
    "## Zadanie 2, Logia 18 - neon\n",
    "\n",
    "W Turtlandii przygotowują neon do zawieszenia na dwóch słupach. Słupy stoją na kwadratowej siatce, a odległość pomiędzy dwoma sąsiednimi słupami w rzędzie oraz kolumnie wynosi 2. Neon musi być rozwieszony w jednym rzędzie lub kolumnie. Dział marketingu uzależnia wybór słupów od oceny zdefiniowanej jako suma ich wysokości i odległości między nimi.\n",
    "\n",
    "Napisz jednoparametrową funkcję neon, której wynikiem jest najwyższa możliwa ocena. Parametr jest listą list wysokości słupów. Rzędy są opisane kolejnymi podlistami. W każdym rzędzie oraz kolumnie jest od 2 do 500 słupów. Postaraj się, by na wynik funkcji nie trzeba było zbyt długo czekać.\n",
    "\n",
    "### Przykłady\n",
    "\n",
    "- wynikiem `neon([[1, 9, 2],[3, 8, 3],[2, 1, 1]])` jest `19` (19=9+8+2),\n",
    "- wynikiem `neon([[1,2,1,2],[7,1,7,1],[1,1,1,1][3,3,3,3]])` jest `18` (18=7+7+2·2)."
   ]
  }
 ],
 "metadata": {
  "kernelspec": {
   "display_name": "Python 3",
   "language": "python",
   "name": "python3"
  },
  "language_info": {
   "codemirror_mode": {
    "name": "ipython",
    "version": 3
   },
   "file_extension": ".py",
   "mimetype": "text/x-python",
   "name": "python",
   "nbconvert_exporter": "python",
   "pygments_lexer": "ipython3",
   "version": "3.8.3"
  }
 },
 "nbformat": 4,
 "nbformat_minor": 4
}
