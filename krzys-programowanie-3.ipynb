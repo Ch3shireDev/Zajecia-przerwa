{
 "cells": [
  {
   "cell_type": "markdown",
   "metadata": {},
   "source": [
    "# Zadanie (Zawijanie)\n",
    "\n",
    "Antek  wpisuje litery w  kwadrat  wierszami,  przy  czym długość  boku  kwadratu  jest  tak  dobrana, by cały napis się w nim mieścił i jak najmniej komórek zostawało pustych. Następnie przesuwa litery po  obwodach  kolejnych  kwadratów. Rozpatruje litery  na  zewnętrznym obwodzie: pierwsza przechodzi  w  miejsce  drugiej,  druga – trzeciej  itd.  Potem przestawia  litery w wewnętrznym obwodzie, itd. Na koniec odczytuje litery wierszami pomijając puste komórki.\n",
    "\n",
    "![](./images/koduj.png)"
   ]
  },
  {
   "cell_type": "code",
   "execution_count": null,
   "metadata": {},
   "outputs": [],
   "source": []
  }
 ],
 "metadata": {
  "kernelspec": {
   "display_name": "Python 3",
   "language": "python",
   "name": "python3"
  },
  "language_info": {
   "codemirror_mode": {
    "name": "ipython",
    "version": 3
   },
   "file_extension": ".py",
   "mimetype": "text/x-python",
   "name": "python",
   "nbconvert_exporter": "python",
   "pygments_lexer": "ipython3",
   "version": "3.8.1"
  }
 },
 "nbformat": 4,
 "nbformat_minor": 4
}
