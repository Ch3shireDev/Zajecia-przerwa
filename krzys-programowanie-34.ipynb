{
 "cells": [
  {
   "cell_type": "markdown",
   "metadata": {},
   "source": [
    "# Zajęcia z programowania 34 - drzewa i grafy\n",
    "\n",
    "Omówimy dzisiaj dwie mniej oczywiste struktury w informatyce - struktury hierarchiczne.\n",
    "\n",
    "## Drzewa\n",
    "\n",
    "<img src=\"tree.png\" width=200/>\n",
    "\n",
    "**Drzewem** określimy strukturę danych, w której każdy element może mieć wyszczególnionego (jednego) rodzica i (wielu) potomków. W szczególności zakładamy, że nie wolno nam tworzyć cykli, tj. nie może być tak, że potomek potomka będzie rodzicem rodzica. Ze względu na \"drzewiastą\" terminologię używamy również określeń \"pnia\", \"gałęzi\" i \"liści\", gdzie:\n",
    "\n",
    "- pień jest rodzicem danego elementu\n",
    "- gałęzie są obiektami potomnymi elementu\n",
    "- liście są gałęziami bez obiektów potomnych\n",
    "\n",
    "<img src=\"tree2.png\" width=400/>\n",
    "\n",
    "Przykładami drzew będzie np. struktura rodziny, w której narzucona jest relacja rodzic-dziecko (niemożliwe jest urodzić swojego rodzica). Innym przykładem mogą być komentarze na reddicie, w których odpowiedzi do danego komentarza są kwalifikowane jako obiekty potomne. Pozwala to na wygodne śledzenie dyskusji (ale już utrudnia przeglądanie wszystkich komentarzy).\n",
    "\n",
    "<img src=\"comment-tree.png\" width=400/>\n",
    "\n",
    "Innym dobrym przykładem jest struktura plików w systemie operacyjnym - pliki możemy gromadzić w foldery, które również mogą być zawierane w foldery itd. Jest co prawda możliwe zakodowanie folderu tak by sztucznie zawierał w sobie swojego rodzica, jednak wymaga to użycia dodatkowych sztuczek w systemie operacyjnym.\n",
    "\n",
    "![](folder.png)"
   ]
  },
  {
   "cell_type": "markdown",
   "metadata": {},
   "source": [
    "## Grafy\n",
    "\n",
    "Graf jest ogólną strukturą, w której poza samymi elementami wyróżniamy również relacje pomiędzy tymi elementami:\n",
    "\n",
    "<img src=\"graph.png\" width=200>"
   ]
  },
  {
   "cell_type": "markdown",
   "metadata": {},
   "source": [
    "Relacje mogą być przedstawione w najróżniejszy sposób - możemy umówić się że każda z nich jest symetryczna (tj. połączenie elementu A i B automatycznie warunkuje połączenie B i A), mogą być kierunkowe, mogą mieć konkretne wagi.\n",
    "\n",
    "![](graph2.gif)"
   ]
  },
  {
   "cell_type": "markdown",
   "metadata": {},
   "source": [
    "## Drzewa - zadania\n",
    "\n",
    "### Zadanie 1\n",
    "\n",
    "Struktura list w Pythonie w naturalny sposób pozwala na reprezentację drzewa. Element:\n",
    "\n",
    "```\n",
    "tree = [\n",
    "    [\n",
    "        [\n",
    "            [],\n",
    "            [\n",
    "                []\n",
    "            ]\n",
    "        ]\n",
    "    ],\n",
    "    [],\n",
    "    []\n",
    "]\n",
    "```\n",
    "\n",
    "składa się z pnia, z którego odchodzą trzy gałęzie. Pierwsza z nich ma jedną gałąź - obiekt potomny, z której odchodzą kolejne dwie gałęzie. Druga z nich ma dodatkową jedną gałąź.\n",
    "\n",
    "Napiszemy program, który policzy maksymalną głębokość dla tak przedstawionych danych. W tym wypadku głębokość gałęzi to 4."
   ]
  },
  {
   "cell_type": "code",
   "execution_count": 14,
   "metadata": {},
   "outputs": [],
   "source": [
    "def depth(tree):\n",
    "    glebokosc = 0 # Ustalamy bieżącą głębokość na 1\n",
    "    elements = tree # Tworzymy zmienną zawierającą bieżącą listę elementów\n",
    "    # Dopóki lista zawiera elementy, dopóty powtarzamy\n",
    "    while len(elements) > 0:\n",
    "        # Zwiększamy głębość o 1\n",
    "        glebokosc += 1\n",
    "        # Tworzymy nowy pojemnik na elementy potomne\n",
    "        elements2 = []\n",
    "        # Dla każdego potomka dodajemy JEGO ZAWARTOŚĆ do nowego pojemnika\n",
    "        for element in elements:\n",
    "            elements2 += element #Uwaga - tutaj DODAJEMY ZAWARTOSC ELEMENTU, NIE SAM ELEMENT!\n",
    "        elements = elements2 # Zastępujemy zmienną element nowym pojemnikiem\n",
    "    return glebokosc # Zwracamy policzoną liczbę kroków wchodzenia w głąb drzewa\n",
    "\n",
    "assert depth([]) == 0\n",
    "assert depth([[]]) == 1\n",
    "assert depth([[],[]]) == 1\n",
    "assert depth([[],[[]]]) == 2"
   ]
  },
  {
   "cell_type": "markdown",
   "metadata": {},
   "source": [
    "Program jest napisany w prosty sposób - patrzymy jak długo możemy podróżować w głąb drzewa, przechodząc jednocześnie przez wszystkie elementy na tym samym poziomie i sprawdzając czy którykolwiek z nich zawiera coś jeszcze.\n",
    "\n",
    "W zasadzie ów program można napisać jeszcze krócej, korzystając z rekurencji - skorzystamy z faktu że gałąź elementu stanowi drzewo samo w sobie. Rekurencyjna postać powyższego algorytmu wygląda następująco:"
   ]
  },
  {
   "cell_type": "code",
   "execution_count": 16,
   "metadata": {},
   "outputs": [],
   "source": [
    "def depth_rek(tree):\n",
    "    if tree == []: # jeśli drzewo jest pustą listą, to ma głębokość zero\n",
    "        return 0\n",
    "    # tworzymy listę głębokości elementów potomnych\n",
    "    glebokosci = [depth_rek(element) for element in tree]\n",
    "    # głębokość elementu to 1 + najwyższa z głębokości elementów potomnych\n",
    "    return 1 + max(glebokosci)\n",
    "\n",
    "assert depth([]) == 0\n",
    "assert depth([[]]) == 1\n",
    "assert depth([[],[]]) == 1\n",
    "assert depth([[],[[]]]) == 2"
   ]
  },
  {
   "cell_type": "markdown",
   "metadata": {},
   "source": [
    "Tutaj korzystamy z założeń rekurencji - stawiamy warunek kończący (jeśli dojdziemy do pustej listy, funkcja zwraca 0), w przypadku jego niespełnienia przechodzimy funkcją po wszystkich elementach potomnych. Ponieważ interesuje nas największa liczba kroków, pobieramy wartość maksymalną."
   ]
  },
  {
   "cell_type": "markdown",
   "metadata": {},
   "source": [
    "### Ćwiczenie\n",
    "\n",
    "Dana jest struktura danych, w których słowo jest zakopane na pewnej głębokości - na przykład `[[['kopytko']],[]]` jest słowem umieszczonym na głębokości 2. Napisz funkcję która przeszuka taką strukturę i wydobędzie ukryte słowo. Jeśli słów jest kilka, może wydobyć pierwsze z nich."
   ]
  },
  {
   "cell_type": "markdown",
   "metadata": {},
   "source": [
    "### Ćwiczenie 2\n",
    "\n",
    "Skonstruujmy drzewo składające się z pojedynczych liter:\n",
    "\n",
    "![](letters.png)"
   ]
  },
  {
   "cell_type": "markdown",
   "metadata": {},
   "source": [
    "Jego reprezentacja w danych będzie wyglądała następująco:\n",
    "\n",
    "```python\n",
    "tree = ['c', ['b',['a']], ['k',['e'],['m', ['l'], ['n']]]]\n",
    "```\n",
    "\n",
    "Z tak określonego drzewa możemy tworzyć zestawy słów według następującej zasady - każda kolejna litera słowa musi być bezpośrednim potomkiem litery (elementu) poprzedniego. Interesuje nas najdłuższe możliwe słowo **składające się z samych samogłosek**.\n",
    "\n",
    "Stwórz funkcję `samo(dane)`, która przyjmuje jako argument drzewo składające się z liter i elementów potomnych, będącymi drzewami o analogicznej strukturze. Jako wynik oczekujemy długości najdłuższego słowa składającego się z samogłosek.\n",
    "\n",
    "Przykłady:\n",
    "\n",
    "- Wynikiem `samo(['a'])` jest 1.\n",
    "- Wynikiem `samo(['a',['b',['c']], ['e']])` jest 2.\n",
    "- Wynikiem `samo(['a',['b',['c',['e']]], ['e',['f',['x']], ['y']])` jest 3.\n",
    "\n",
    "### Ćwiczenie 3\n",
    "\n",
    "Stwórz funkcję `niepar(dane)` która przyjmuje na wejściu drzewo złożone z liczb. Na wyjściu powinno zwracać maksymalną głębokość gałęzi poskładanych jedynie z nieparzystych elementów.\n",
    "\n",
    "Przykłady:\n",
    "\n",
    "- Wynikiem `niepar([1])` jest 1.\n",
    "- Wynikiem `niepar([1,[2],[4])` jest 1.\n",
    "- Wynikiem `niepar([1,[3,[5]],[4,[6,[8,[10]]])` jest 3."
   ]
  },
  {
   "cell_type": "markdown",
   "metadata": {},
   "source": [
    "## Drzewa - dalszy ciąg teorii\n",
    "\n"
   ]
  }
 ],
 "metadata": {
  "kernelspec": {
   "display_name": "Python 3",
   "language": "python",
   "name": "python3"
  },
  "language_info": {
   "codemirror_mode": {
    "name": "ipython",
    "version": 3
   },
   "file_extension": ".py",
   "mimetype": "text/x-python",
   "name": "python",
   "nbconvert_exporter": "python",
   "pygments_lexer": "ipython3",
   "version": "3.8.5"
  }
 },
 "nbformat": 4,
 "nbformat_minor": 4
}
