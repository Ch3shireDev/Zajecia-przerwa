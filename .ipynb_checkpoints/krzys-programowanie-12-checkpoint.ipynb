{
 "cells": [
  {
   "cell_type": "markdown",
   "metadata": {},
   "source": [
    "# Programowanie 12\n",
    "\n",
    "## Zadanie 1\n",
    "\n",
    "Napisz program który przyjmie od użytkownika liczbę i wypisze silnię z tej liczby.\n",
    "\n",
    "## Zadanie 2\n",
    "\n",
    "Napisz program który przyjmie od użytkownika liczbę i wypisze na ekran sumę liczb od 1 do tej liczby.\n",
    "\n",
    "## Zadanie 3\n",
    "\n",
    "Napisz program który przyjmie od użytkownika liczbę `n` i wypisze na ekran ciąg znaków zawierający dokładnie `n` liter `a`, oddzielanych literami `b`.\n",
    "\n",
    "## Zadanie 4\n",
    "\n",
    "Napisz program który przyjmie od użytkownika słowo i wypisze je w zmienionej formie, z pousuwanymi samogłoskami.\n",
    "\n",
    "## Zadanie 5\n",
    "\n",
    "Napisz program który przyjmie od użytkownika słowo i wypisze wszystkie możliwe prefiksy tego słowa (łącznie z nim samym).\n",
    "\n",
    "## Zadanie 6\n",
    "\n",
    "Napisz program który przyjmie od użytkownika słowo i wypisze wszystkie możliwe sufiksy tego słowa (łącznie z nim samym).\n",
    "\n",
    "## Zadanie 7\n",
    "\n",
    "Napisz program który przyjmie od użytkownika słowo i wypisze wszystkie możliwe podsłowa tego słowa (łącznie z nim samym).\n",
    "\n",
    "## Zadanie 8\n",
    "\n",
    "Napisz program który policzy wszystkie RÓŻNE podsłowa stworzone z podanego przez użytkownika słowa.\n",
    "\n",
    "## Zadanie 9\n",
    "\n",
    "Napisz program który wypisze wszystkie możliwe podsłowa będące palindromami, stworzone z podanego przez użytkownika słowa.\n",
    "\n",
    "## Zadanie 10\n",
    "\n",
    "Napisz program który zwróci informację o liczbie RÓŻNYCH palindromów będących podsłowami danego słowa.\n",
    "\n",
    "## Zadanie 11\n",
    "\n",
    "Napisz program który dla podanego słowa rysuje na środku (z użyciem pakietu `turtle`) blok klocków o maksymalnej szerokości 760 i maksymalnej wysokości 400. Klocki są rysowane w następujący sposób - spółgłoski są szarymi klockami, natomiast samogłoski białymi.\n",
    "\n",
    "\n",
    "## Zadanie 12\n",
    "\n",
    "Napisz modyfikację powyższego programu w następujący sposób - samogłoska będąca najcześciej pojawiającą się w słowie jest kolorowana na czerwono."
   ]
  }
 ],
 "metadata": {
  "kernelspec": {
   "display_name": "Python 3",
   "language": "python",
   "name": "python3"
  },
  "language_info": {
   "codemirror_mode": {
    "name": "ipython",
    "version": 3
   },
   "file_extension": ".py",
   "mimetype": "text/x-python",
   "name": "python",
   "nbconvert_exporter": "python",
   "pygments_lexer": "ipython3",
   "version": "3.8.3"
  }
 },
 "nbformat": 4,
 "nbformat_minor": 4
}
