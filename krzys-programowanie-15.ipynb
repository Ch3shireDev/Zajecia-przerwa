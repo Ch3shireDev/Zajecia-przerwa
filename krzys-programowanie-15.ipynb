{
 "cells": [
  {
   "cell_type": "markdown",
   "metadata": {},
   "source": [
    "# Zajęcia z programowania 15\n",
    "\n",
    "\n",
    "## Zadanie 1\n",
    "\n",
    "Stwórz program który sprawdzi, czy na liście znajduje się liczba podzielna przez 3.\n",
    "\n",
    "## Zadanie 2\n",
    "\n",
    "Stwórz program który sprawdzi, czy na liście znajduje się liczba podzielna przez wskazaną liczbę.\n",
    "\n",
    "## Zadanie 3\n",
    "\n",
    "Stwórz program który uporządkuje liczby w kolejności rosnącej.\n",
    "\n",
    "## Zadanie 4\n",
    "\n",
    "Stwórz program który uporządkuje liczby w kolejności malejącej.\n",
    "\n",
    "## Zadanie 5\n",
    "\n",
    "Stwórz program który uporządkuje słowa w kolejności zwiększającej się długości\n",
    "\n",
    "## Zadanie 6\n",
    "\n",
    "Stwórz program który uporządkuje słowa w kolejności zwiększającej się liczby samogłosek.\n",
    "\n",
    "## Zadanie 7\n",
    "\n",
    "Stwórz program który sprawdzi, czy na liście znajduje się słowo o ustalonej liczbie samogłosek.\n",
    "\n",
    "## Zadanie 8\n",
    "\n",
    "Stwórz program który przeszuka całą listę liczb i wskaże, który z elementów pojawia się tam najczęściej.\n",
    "\n",
    "## Zadanie 9\n",
    "\n",
    "Stwórz program który przeszuka całą listę słów i wskaże jaka jest najczętsza długość słowa.\n",
    "\n",
    "## Zadanie 10\n",
    "\n",
    "Stwórz program który przeszuka listę liczb pod kątem ich podzielności przez liczbę 3 i wskaże, który z typów - liczby podzielne przez 3, liczby zwracające resztę 1, liczby zwracające resztę 2 - pojawia się najczęściej.\n",
    "\n",
    "## Zadanie 11\n",
    "\n",
    "Stwórz program który dla danych dwóch list liczb wskaże, które z tych liczb pojawiają się w obydwu tablicach.\n",
    "\n",
    "## Zadanie 12\n",
    "\n",
    "Stwórz program który dla danych dwóch list słów wskaże, które z tych słów pojawiają się w obydwu tablicach.\n",
    "\n",
    "## Zadanie 13\n",
    "\n",
    "Stwórz program który dla danej listy słów wskaże, które z tych słów powtarzają się.\n",
    "\n",
    "## Zadanie 14\n",
    "\n",
    "Stwórz program który przejrzy listę i usunie wielokrotnie pojawiające się elementy."
   ]
  }
 ],
 "metadata": {
  "kernelspec": {
   "display_name": "Python 3",
   "language": "python",
   "name": "python3"
  },
  "language_info": {
   "codemirror_mode": {
    "name": "ipython",
    "version": 3
   },
   "file_extension": ".py",
   "mimetype": "text/x-python",
   "name": "python",
   "nbconvert_exporter": "python",
   "pygments_lexer": "ipython3",
   "version": "3.8.3"
  }
 },
 "nbformat": 4,
 "nbformat_minor": 4
}
