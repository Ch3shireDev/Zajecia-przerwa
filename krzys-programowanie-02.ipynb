{
 "cells": [
  {
   "cell_type": "markdown",
   "metadata": {},
   "source": [
    "# Zadanie 1 - Liczby Lucasa\n",
    "\n",
    "Dwie początkowe liczby Lucasa to 2 i 1, a kolejne tworzone są jako suma dwóch poprzednich. Wobec tego trzecia liczba równa się 3, czwarta 4, piąta 7, ... a dziesiąta 76.\n",
    "\n",
    "Napisz funkcję `lucas(n)`, której wynikiem są dwie ostatnie cyfry n-tej liczby Lucasa, przy czym jeżeli liczba Lucasa jest jednocyfrowa lub przedostatnią cyfrą jest 0, to wynikiem jest ostatnia cyfra. Parametr może przyjmować wartości od 1 do 10000000. Postaraj się, by na wynik nie trzeba było czekać zbyt długo.\n",
    "\n",
    "## Przykłady\n",
    "\n",
    "- Wynikiem `lucas(9)` jest `47`.\n",
    "- Wynikiem `lucas(35)` jest `43`, ponieważ trzydziesta piąta liczba Lucasa wynosi 12752043.\n",
    "- Wynikiem `lucas(45)` jest `7`, ponieważ czterdziesta piąta liczba Lucasa wynosi 1568397607."
   ]
  },
  {
   "cell_type": "markdown",
   "metadata": {},
   "source": [
    "# Zadanie 2 - liczby\n",
    "\n",
    "Ola bawi się liczbami – zarówno małymi jak i takimi, które mają kilkaset cyfr. Zapisuje wybraną liczbę na kartce  i  szuka największej  liczby  całkowitej,  której  kwadrat  nie  przekracza zapisanej liczby. Szybko znalazła algorytm dający poprawny wynik. Teraz zastanawia się, jak szukać takich liczb, które podniesione do innej jednocyfrowej potęgi nie przekraczają wybranej liczby. Pomóż Oli uporać się z problemem. Napisz funkcję liczba(a, n). Pierwszy parametr `a` jest liczbą złożoną maksymalnie z  1000  cyfr, drugi parametr `n` to  liczba  z  zakresu  od  2  do 7 oznaczająca  potęgę, do  której  podnosimy poszukiwaną wartość. Postaraj się, by na wynik nie trzeba było czekać zbyt długo.\n",
    "\n",
    "## Przykłady\n",
    "\n",
    "- Wynikiem `liczba(1024, 2)` jest `32`, ponieważ $32^2=1024$\n",
    "- Wynikiem `liczba(899, 2)` jest `29`, ponieważ $29^2= 841 < 899$, a $30^2= 900 > 899$.\n",
    "- Wynikiem `liczba(11000, 3)` jest `22`, ponieważ $22^3= 10648 < 11000$, a $23^3= 12167 > 11000$.\n",
    "- Wynikiem `liczba(90972061672647417382949994702882855264900000, 2)` jest `9537927535510396054172`."
   ]
  },
  {
   "cell_type": "markdown",
   "metadata": {},
   "source": [
    "# Zadanie 3 - dzielniki\n",
    "\n",
    "Napisz  dwuparametrową  funkcję dzielniki  o  całkowitych  dodatnich  parametrach a  i b,  której wynikiem  jest  liczba  tych  liczb  całkowitych  z  przedziału  <a, b>  (tj.  nie  mniejszych  niż `a`  i  nie  większych niż `b` - zakładamy, że $a\\leq b \\leq 1000000$), które mają tylko trzy różne dzielniki naturalne. \n",
    "\n",
    "## Przykłady\n",
    "\n",
    "- wynikiem `dzielniki(2, 6)` jest `1` (ww. własność ma tylko 4), \n",
    "- wynikiem `dzielniki(80000,90000)` jest 2."
   ]
  },
  {
   "cell_type": "markdown",
   "metadata": {},
   "source": [
    "# Zadanie 4 - Liczby pięciokątne\n",
    "\n",
    "Liczby pięciokątne są generowane przez wyrażenie $P_n = \\frac{n(3n-1)}2$. Pierwsze dziesięć liczb pięciokątnych to:\n",
    "\n",
    "1, 5, 12, 22, 35, 51, 70, 92, 117, 145, ...\n",
    "\n",
    "Można zauważyć, że $P_4+P_7 = 22+70 = 92 = P_8$. Jednakowoż, różnica tych wyrażeń, $70-22 =48$ nie jest liczbą pięciokątną.\n",
    "\n",
    "Znajdź parę liczb pięciokątnych, `Pj` oraz `Pk`, dla których suma i różnica są pięciokątne oraz różnica $D = |Pj-Pk|$ między nimi jest minimalna. Jaka jest wartość $D$?\n"
   ]
  },
  {
   "cell_type": "code",
   "execution_count": null,
   "metadata": {},
   "outputs": [],
   "source": []
  }
 ],
 "metadata": {
  "kernelspec": {
   "display_name": "Python 3",
   "language": "python",
   "name": "python3"
  },
  "language_info": {
   "codemirror_mode": {
    "name": "ipython",
    "version": 3
   },
   "file_extension": ".py",
   "mimetype": "text/x-python",
   "name": "python",
   "nbconvert_exporter": "python",
   "pygments_lexer": "ipython3",
   "version": "3.8.1"
  }
 },
 "nbformat": 4,
 "nbformat_minor": 4
}
