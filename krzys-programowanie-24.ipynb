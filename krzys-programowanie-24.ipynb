{
 "cells": [
  {
   "cell_type": "markdown",
   "metadata": {},
   "source": [
    "# Zajęcia z programowania\n",
    "\n",
    "## Algorytm przeszukiwania\n",
    "\n",
    "Metoda działania - na danym przedziale wartości (lub zbiorze elementów) sprawdzamy które elementy spełniają zadany warunek. Zależnie od warunków zadania albo zliczamy ile jest takich elementów, albo zwracamy listę składającą się ze wszystkich takich elementów.\n",
    "\n",
    "Generyczny przykład - liczby spełniające warunek:\n",
    "\n",
    "```python\n",
    "def funkcja(n):\n",
    "    counter = 0\n",
    "    for i in range(1, n+1):\n",
    "        if warunek(i):\n",
    "            counter += 1\n",
    "    return counter\n",
    "```\n",
    "\n",
    "Inny generyczny przykład - zliczanie elementów zbioru:\n",
    "\n",
    "```python\n",
    "def funkcja(lista):\n",
    "    counter = 0\n",
    "    for x in lista:\n",
    "        if warunek(x):\n",
    "            counter += 1\n",
    "    return counter\n",
    "```\n"
   ]
  },
  {
   "cell_type": "markdown",
   "metadata": {},
   "source": [
    "## Zadanie 4, Logia 18 - dzielniki\n",
    "\n",
    "Napisz dwuparametrową funkcję dzielniki o całkowitych dodatnich parametrach a i b, której wynikiem jest liczba tych liczb całkowitych z przedziału <a, b> (tj. nie mniejszych niż a i nie większych niż b, zakładamy, że $a \\leq b \\leq 1000000$), które mają tylko trzy różne dzielniki naturalne.\n",
    "\n",
    "### Przykłady\n",
    "\n",
    "- wynikiem `dzielniki(2, 6)` jest `1` (ww. własność ma tylko 4), \n",
    "- wynikiem `dzielniki(80000,90000)` jest `2`."
   ]
  },
  {
   "cell_type": "markdown",
   "metadata": {},
   "source": [
    "## Algorytm znajdywania największego elementu\n",
    "\n",
    "Najprościej - z zadanego zbioru elementów chcemy wyłonić element, który po przemieleniu przez jakąś funkcję zwraca największą wartość.\n",
    "\n",
    "```python\n",
    "def funkcja(lista):\n",
    "    maks = wartosc(lista[0])\n",
    "    for x in lista:\n",
    "        y = wartosc(x)\n",
    "        if y > maks:\n",
    "            maks = y\n",
    "    return maks\n",
    "```"
   ]
  },
  {
   "cell_type": "markdown",
   "metadata": {},
   "source": [
    "## Zadanie 2, Logia 18, 2 etap - neony\n",
    "\n",
    "W Turtlandii przygotowują neon do zawieszenia na dwóch słupach. Słupy stoją w rzędzie, odległość pomiędzy dwoma sąsiednimi wynosi 2. Dział marketingu uzależnia wybór słupów od oceny zdefiniowanej jako suma ich wysokości i odległości między nimi.\n",
    "\n",
    "Napisz jednoparametrową funkcję neon, której wynikiem jest najwyższa możliwa ocena. Parametr jest listą wysokości kolejnych słupów (ma co najmniej 2 elementy, co najwyżej 500). Wysokość każdego słupa wynosi od 1 do 10 000.\n",
    "\n",
    "### Przykłady\n",
    "\n",
    "- wynikiem `neon([10, 4, 5, 7, 1, 4, 1])` jest `24` (bo najwyższa ocena będzie uzyskana przy wyborze pierwszego i przedostatniego słupa, 24 = 10 + 4 + 5 · 2), \n",
    "- wynikiem `neon([1, 10, 1])` jest `13` (13 = 1 + 10 + 1 · 2, też 13 = 10 + 1 + 1 · 2)\n"
   ]
  },
  {
   "cell_type": "markdown",
   "metadata": {},
   "source": [
    "## Zadanie 2, Logia 18 - neon\n",
    "\n",
    "W Turtlandii przygotowują neon do zawieszenia na dwóch słupach. Słupy stoją na kwadratowej siatce, a odległość pomiędzy dwoma sąsiednimi słupami w rzędzie oraz kolumnie wynosi 2. Neon musi być rozwieszony w jednym rzędzie lub kolumnie. Dział marketingu uzależnia wybór słupów od oceny zdefiniowanej jako suma ich wysokości i odległości między nimi.\n",
    "\n",
    "Napisz jednoparametrową funkcję neon, której wynikiem jest najwyższa możliwa ocena. Parametr jest listą list wysokości słupów. Rzędy są opisane kolejnymi podlistami. W każdym rzędzie oraz kolumnie jest od 2 do 500 słupów. Postaraj się, by na wynik funkcji nie trzeba było zbyt długo czekać.\n",
    "\n",
    "### Przykłady\n",
    "\n",
    "- wynikiem `neon([[1, 9, 2],[3, 8, 3],[2, 1, 1]])` jest `19` (19=9+8+2),\n",
    "- wynikiem `neon([[1,2,1,2],[7,1,7,1],[1,1,1,1][3,3,3,3]])` jest `18` (18=7+7+2·2)."
   ]
  }
 ],
 "metadata": {
  "kernelspec": {
   "display_name": "Python 3",
   "language": "python",
   "name": "python3"
  },
  "language_info": {
   "codemirror_mode": {
    "name": "ipython",
    "version": 3
   },
   "file_extension": ".py",
   "mimetype": "text/x-python",
   "name": "python",
   "nbconvert_exporter": "python",
   "pygments_lexer": "ipython3",
   "version": "3.8.3"
  }
 },
 "nbformat": 4,
 "nbformat_minor": 4
}
