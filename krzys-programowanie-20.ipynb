{
 "cells": [
  {
   "cell_type": "markdown",
   "metadata": {},
   "source": [
    "# Zajęcia z programowania\n",
    "\n",
    "## Zadanie 1\n",
    "\n",
    "Stwórz program, który zasymuluje robota chodzącego na zmianę `n` kroków do przodu i `n` kroków do tyłu. Program powinien zwracać lokalizację robota dla danego `n` po przejściu `m` kroków.\n",
    "\n",
    "## Zadanie 2\n",
    "\n",
    "Stwórz program symulujący robota idącego `n` kroków do przodu, `n-1` kroków do tyłu, `n` kroków do przodu, `n-1` kroków do tyłu... etc. Ponownie, program powinien zwracać lokalizację robota dla danego `n` po przejściu `m` kroków.\n",
    "\n",
    "## Zadanie 3\n",
    "\n",
    "Stwórz program symulujący robota idącego `n` kroków do przodu, `n-1` kroków do tyłu, `n-2` kroków do przodu... aż do osiągnięcia zera kroków w przód i w tył. Program powinien zwracać lokalizację robota dla danego `n` po `m` krokach.\n",
    "\n",
    "Uwaga - po zejściu liczby kroków w przód i w tył do zera, robot powinien każdy kolejny \"krok\" wykonywać w miejscu.\n",
    "\n",
    "## Zadanie 4\n",
    "\n",
    "Stwórz program symulujący ruch robota po kwadracie o boku `n` - najpierw robot przechodzi `n` kroków do przodu, potem skręca w górę, przechodzi `n` kroków do góry, skręca w lewo... i tak dalej. Program powinien zwracać współrzędne robota dla danego `n` po przejściu `m` kroków.\n",
    "\n",
    "## Zadanie 5\n",
    "\n",
    "Stwórz program symulujący ruch robota po spirali - tj. robot najpierw idzie `n` kroków do przodu, skręca w bok, następnie przechodzi `n-1` kroków, skręca w bok, przechodzi `n-2` kroków... i tak dalej, aż do zejścia do zera. Po zejściu do zera robot stoi w miejscu.\n",
    "\n",
    "## Zadanie 6\n",
    "\n",
    "Stwórz program symulujący błądzenie losowe - robot może iść krok do przodu lub krok do tyłu, zależnie od rzutu kością (funkcja `random.randint`).\n",
    "\n",
    "## Zadanie 7 (Minilogia 16, etap 3)\n",
    "\n",
    "Robot porusza  się  od  lewego  do  prawego  końca  korytarza.  Został  tak  zaprogramowany, że wykonuje tylko dwie podstawowe czynności: idzie naprzód o 1 krok lub zawraca, gdy nie może  pójść  naprzód. Na  początku  robot  stoi w  lewym  końcu  korytarza,  jest  skierowany w kierunku prawego i jest naładowany. Po uruchomieniu porusza się do  drugiego końca, a potem zawraca. Wykonując czynności (ruch lub zawracanie) traci energię, więc co jakiś czas musi zostać doładowany.\n",
    "Doładowanie nie  jest  jednak  pełne,  każde  kolejne  umożliwia  wykonanie  o  jedną czynność mniej niż poprzednie. \n",
    "\n",
    "Napisz dwuparametrową funkcję `robot`.  Pierwszy parametr określa liczbę czynności, jaką robot może wykonać na pełnym naładowaniu, drugi długość korytarza wyrażoną w krokach robota. Oba parametry są liczbami naturalnymiod 1 do 1000. \n",
    "\n",
    "Wynikiem funkcji jest odległość robota od lewego końcapo wykonaniu wszystkich możliwych czynności.\n",
    "\n",
    "Przykład 1:\n",
    "\n",
    "Dla wartości pierwszego naładowania równej 5 i długości korytarza 10. Robot po pierwszym naładowaniuidzie 5 kroków, po drugim naładowaniu 4 kroki, po trzecim 1 krok, zawraca i idzie 1 krok, po czwartym naładowaniu 2 kroki, a po ostatnim 1 krok. Odległość od lewego końca wynosi 6.\n",
    "\n",
    "![](./images/robot1.png)\n",
    "\n",
    "Przykład 2:\n",
    "\n",
    "Dla wartości pierwszego naładowania równej6 i długości korytarza 7.Robot po pierwszym naładowaniu idzie 6 kroków, po drugim naładowaniu 1 krok, zawraca, apotem 3 kroki, po trzecim 4 kroki, po czwartym zawracai idzie 2 kroki, po piątym idzie 2 kroki, a po ostatnim 1. Odległość od lewego końca wynosi 5.\n",
    "\n",
    "![](./images/robot2.png)\n",
    "\n",
    "Przykładowe wyniki:\n",
    "\n",
    "- wynikiem `robot(5,10)` jest 6\n",
    "- wynikiem `robot(6,7)` jest 5\n",
    "\n",
    "## Zadanie 8\n",
    "\n",
    "Stwórz program, który za pomocą modułu `turtle` narysuje błądzenie losowe w dwóch wymiarach. Dla danej liczby `n` (oznaczającej liczbę pikseli pokonywaną co krok przez żółwia) oraz liczby `m` (oznaczającej liczbę kroków) żółw powinien `m` razy skręcić w jednym z czterech kierunków i przesunąć się o `n` pikseli (oczywiście zostawiając ślad)."
   ]
  }
 ],
 "metadata": {
  "kernelspec": {
   "display_name": "Python 3",
   "language": "python",
   "name": "python3"
  },
  "language_info": {
   "codemirror_mode": {
    "name": "ipython",
    "version": 3
   },
   "file_extension": ".py",
   "mimetype": "text/x-python",
   "name": "python",
   "nbconvert_exporter": "python",
   "pygments_lexer": "ipython3",
   "version": "3.8.1"
  }
 },
 "nbformat": 4,
 "nbformat_minor": 4
}
