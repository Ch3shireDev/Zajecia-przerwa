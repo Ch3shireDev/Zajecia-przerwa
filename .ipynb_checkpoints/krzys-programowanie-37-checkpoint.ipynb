{
 "cells": [
  {
   "cell_type": "markdown",
   "metadata": {},
   "source": [
    "# Zajęcia z programowania 37\n",
    "\n",
    "Dzisiejsze zajęcia będą kompletnie poświęcone przetwarzaniu łańcuchów tekstowych.\n",
    "\n",
    "## Zadanie 1\n",
    "\n",
    "Użytkownik wpisuje proste obliczenie typu \"liczba operacja liczba\" (rozdzielane spacjami), gdzie liczby mogą być wielocyfrowe, natomiast operacja jest z zestawu `+, -, *, /`. Należy stworzyć funkcję `oblicz(dane)`, przyjmującą na wejściu łańcuch znaków, która zwróci w postaci liczbowej wynik działania.\n",
    "\n",
    "## Zadanie 2\n",
    "\n",
    "Stwórz funkcję która przetwarza łańcuch tekstowy będący listą imion (pisanych z dużej litery) oddzielanych spacjami na listę słów, a następnie wybiera spośród tej listy najdłuższe imię.\n",
    "\n",
    "Na przykład funkcja `dlugie_imie(\"Tomek Kasia Cecyl Antoni\")` powinna zwracać wartość `Antoni`.\n",
    "\n",
    "## Zadanie 3\n",
    "\n",
    "Stwórz analogiczną funkcję do tej z drugiego zadania, gdzie imiona nie są separowane spacjami.\n",
    "\n",
    "Przykład:\n",
    "\n",
    "`dlugie_imie_bez_spacji(\"TomekKasiaCecylAntoni\")` powinno zwrócić `Antoni`.\n",
    "\n",
    "## Zadanie 4\n",
    "\n",
    "Stwórz funkcję przekształcającą datę w postaci dzień-miesiąc-rok do trzech liczb. Każda z liczb w dacie może być zapisana dowolną liczbą cyfr.\n",
    "\n",
    "Przykład:\n",
    "\n",
    "- `data(\"12-1-2021\")` powinna zwracać `12, 1, 2021`,\n",
    "- `data(\"6-01-2021\")` powinna zwracać `6, 1, 2021`,\n",
    "etc."
   ]
  }
 ],
 "metadata": {
  "kernelspec": {
   "display_name": "Python 3",
   "language": "python",
   "name": "python3"
  },
  "language_info": {
   "codemirror_mode": {
    "name": "ipython",
    "version": 3
   },
   "file_extension": ".py",
   "mimetype": "text/x-python",
   "name": "python",
   "nbconvert_exporter": "python",
   "pygments_lexer": "ipython3",
   "version": "3.8.3"
  }
 },
 "nbformat": 4,
 "nbformat_minor": 4
}
