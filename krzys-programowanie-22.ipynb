{
 "cells": [
  {
   "cell_type": "markdown",
   "metadata": {},
   "source": [
    "# Zajęcia z programowania\n",
    "\n",
    "## Zadanie 1 - Słowa Bartka\n",
    "\n",
    "Słowa Bartka to takie słowa, w których litery a i b występują w parach: każdemu wystąpieniu litery `a` musi odpowiadać  inne  wystąpienie  litery `b`  w  dalszej  części  słowa  i  odwrotnie  –  każde  wystąpienie  litery `b` musi być poprzedzone innym wystąpieniem litery `a`.  \n",
    "\n",
    "Napisz  jednoparametrową  funkcję `spr(slowo)`,  której  parametrem  jest  słowo.  Wynikiem  jest  długość najdłuższego prefiksu będącego słowem Bartka. Prefiks to początkowy fragment słowa lub całe słowo. \n",
    "\n",
    "Przykłady: \n",
    "- wynikiem `spr('balon')` jest `0`, \n",
    "- wynikiem `spr('abrakadabra')` jest `3`, \n",
    "- wynikiem `spr('arbuz')` jest `5`.\n",
    "\n",
    "## Zadanie 2 - Generator haseł\n",
    "\n",
    "Stwórz program generujący losowe hasła - jako podawane dane wejściowe będzie długość, obecność dużych liter, obecność małych liter, obecność cyfr, rodzaj znaków specjalnych.\n",
    "\n",
    "## Zadanie 3\n",
    "\n",
    "Pobierz plik [`klasy.csv`](./klasy.csv) - przedstawia on dane 20 tysięcy uczniów wymyślonej szkoły. Korzystając z biblioteki `csv` znajdź listę wszystkich uczniów ze średnią 4.75 i wyższą.\n",
    "\n",
    "Przykładowe użycie biblioteki `csv`:\n",
    "\n",
    "```python\n",
    "import csv\n",
    "\n",
    "# otwarcie pliku tekstowego\n",
    "file = open('innovators.csv', 'r')\n",
    "# pobranie danych z pliku\n",
    "reader = csv.reader(file)\n",
    "\n",
    "# przykładowe wypisanie wierszy - element reader można traktować jako listę list\n",
    "for row in reader:\n",
    "    print(row)\n",
    "```\n",
    "\n",
    "## Zadanie 4\n",
    "\n",
    "Napisz program, który zasymuluje grę w totolotka - wybierane jest 6 różnych liczb z 49 (od 1 do 49). Za trafienie \"trójki\" otrzymywane jest 10 złotych, za trafienie czwórki - 100 złotych, za trafienie piątki - 3500 zł, główna wygrana natomiast to milion złotych (1 000 000 zł). Cena biletu to 3 złote."
   ]
  }
 ],
 "metadata": {
  "kernelspec": {
   "display_name": "Python 3",
   "language": "python",
   "name": "python3"
  },
  "language_info": {
   "codemirror_mode": {
    "name": "ipython",
    "version": 3
   },
   "file_extension": ".py",
   "mimetype": "text/x-python",
   "name": "python",
   "nbconvert_exporter": "python",
   "pygments_lexer": "ipython3",
   "version": "3.8.3"
  }
 },
 "nbformat": 4,
 "nbformat_minor": 4
}
