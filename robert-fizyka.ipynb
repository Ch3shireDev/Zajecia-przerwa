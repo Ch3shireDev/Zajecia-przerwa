{
 "cells": [
  {
   "cell_type": "markdown",
   "metadata": {},
   "source": [
    "# Fizyka\n",
    "\n",
    "Przydatne wzory:\n",
    "\n",
    "Siła oddziaływania grawitacyjnego pomiędzy ciałami o masie $m$ i $M$:\n",
    "$$ F_g = G\\cdot\\frac{M\\cdot m}{r^2}$$\n",
    "\n",
    "Druga zasada dynamiki Newtona:\n",
    "\n",
    "$$ F = m\\cdot a$$\n",
    "\n",
    "Przyspieszenie ciała poruszającego się z prędkością $v$ po okręgu o promieniu $r$:\n",
    "\n",
    "$$ a = \\frac{v^2}{r}$$"
   ]
  },
  {
   "cell_type": "markdown",
   "metadata": {},
   "source": [
    "## Zadanie 1\n",
    "\n",
    "Jakie będzie przyspieszenie ciała na powierzchni Jowisza? A jakie na powierzchni Słońca?\n",
    "\n",
    "### Podpowiedź\n",
    "\n",
    "Aby uzyskać przyspieszenie grawitacyjne, połącz wzory na siłę oddziaływania grawitacyjnego i drugą zasadę dynamiki Newtona."
   ]
  },
  {
   "cell_type": "markdown",
   "metadata": {},
   "source": [
    "## Zadanie 2\n",
    "\n",
    "Jaka jest siła oddziaływań grawitacyjnych dwóch zetkniętych ze sobą złotych kul o promieniu 1 m każda?\n",
    "\n",
    "### Podpowiedzi\n",
    "\n",
    "1. Wylicz masę złotej kuli o promieniu 1 m. Wzór na objętość kuli: $V = \\frac43\\pi r^3$. Wzór na masę: $m = d\\cdot V$. Gęstość wygooglaj.\n",
    "2. Użyj wzoru na siłę oddziaływania grawitacyjnego. W jakiej odległości są środki obydwu kul, jeśli ich powierzchnie się stykają?\n"
   ]
  },
  {
   "cell_type": "markdown",
   "metadata": {},
   "source": [
    "## Zadanie 3\n",
    "\n",
    "Oblicz wartość I prędkości kosmicznej dla Księżyca wiedząc, że jego promień wynosi 1740 km, a przyspieszenie grawitacyjne na powierzchni Księżyca jest równe 1/6 ziemskiego przyspieszenia grawitacyjnego. \n",
    "\n",
    "### Podpowiedzi\n",
    "\n",
    "- I prędkość kosmiczna to prędkość wymagana po ruchu po orbicie o promieniu równej promieniowi danego ciała. Czyli najprościej - jaka jest minimalna prędkość wymagana aby wejść na orbitę.\n",
    "- Skorzystaj ze wzoru na przyspieszenie ciała w ruchu po okręgu"
   ]
  },
  {
   "cell_type": "markdown",
   "metadata": {},
   "source": [
    "## Zadanie 4\n",
    "\n",
    "Jaką masę musiałaby mieć Ziemia, aby prędkość z jaką powinno się poruszać ciało by krążyć wokół Ziemi tuż przy jej powierzchni była równa prędkości światła (gdyby Ziemia miała taką masę stałaby się czarną dziurą)? Jak się ma ta masa do masy Słońca?\n",
    "\n",
    "### Podpowiedzi\n",
    "\n",
    "1. Uzyskaj przyspieszenie ciała w ruchu po okręgu dla $v$ równego prędkości światła i $r$ równego promienia Ziemi. Jeśli potrzebujesz wartości stałych - Google it.\n",
    "2. Ze wzoru na siłę oddziaływania grawitacyjnego i drugiej zasady dynamiki Newtona uzyskaj wzór na masę \"Super-Ziemi\"."
   ]
  },
  {
   "cell_type": "markdown",
   "metadata": {},
   "source": [
    "## Zadanie 5\n",
    "\n",
    "Na powierzchni planety o promieniu $r = 1000 km$ wartość przyśpieszenia grawitacyjnego wynosi $g=2\\frac{m}{s^2}$. Jaka jest średnia gęstość tej planety? W jakiej odległości od jej powierzchni wartość przyśpieszenia grawitacyjnego wynosi $g=1 \\frac{m}{s^2}$?"
   ]
  },
  {
   "cell_type": "markdown",
   "metadata": {},
   "source": [
    "## Zadanie 6\n",
    "\n",
    "Porównaj siłę oddziaływań elektrostatycznych i grawitacyjnych elektronu i protonu w atomie wodoru.\n",
    "\n",
    "### Podpowiedzi\n",
    "\n",
    "1. Wzór na siłę oddziaływań elektrostatycznych (prawo Coulomba): \n",
    "\n",
    "$$F_c = k\\cdot\\frac{q_1\\cdot q_2}{r^2},$$\n",
    "\n",
    "gdzie $k$ jest stałą elektrostatyczną (wygooglaj), a $q_1, q_2$ to ładunki elektryczne obydwu ciał.\n",
    "\n",
    "2. Będziesz potrzebował:\n",
    "    - promienia atomu wodoru (średnia odległość między elektronem i protonem)\n",
    "    - masy protonu w kg\n",
    "    - masy elektronu w kg\n",
    "    - ładunku elektrycznego protonu i elektronu"
   ]
  },
  {
   "cell_type": "code",
   "execution_count": null,
   "metadata": {},
   "outputs": [],
   "source": []
  }
 ],
 "metadata": {
  "kernelspec": {
   "display_name": "Python 3",
   "language": "python",
   "name": "python3"
  },
  "language_info": {
   "codemirror_mode": {
    "name": "ipython",
    "version": 3
   },
   "file_extension": ".py",
   "mimetype": "text/x-python",
   "name": "python",
   "nbconvert_exporter": "python",
   "pygments_lexer": "ipython3",
   "version": "3.8.1"
  }
 },
 "nbformat": 4,
 "nbformat_minor": 4
}
