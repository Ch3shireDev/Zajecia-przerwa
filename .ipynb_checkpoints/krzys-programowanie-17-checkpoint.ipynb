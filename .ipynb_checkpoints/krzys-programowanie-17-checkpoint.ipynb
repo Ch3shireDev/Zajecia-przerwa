{
 "cells": [
  {
   "cell_type": "markdown",
   "metadata": {},
   "source": [
    "# Zajęcia z programowania\n",
    "\n",
    "## Zadanie 1\n",
    "\n",
    "Stwórz funkcję która dla danego słowa i danej litery zwróci listę indeksów w słowie na których znajduje się dana litera.\n",
    "\n",
    "## Zadanie 2\n",
    "\n",
    "Stwórz funkcję która dla danego słowa (lub zdania) i listy indeksów zwróci inne słowo w którym wszystkie litery, poza wskazanymi indeksami, zostały zastąpione pojedynczym znakiem, np. podkreślnikiem (albo kreską).\n",
    "\n",
    "## Zadanie 3\n",
    "\n",
    "Stwórz funkcję wczytującą z podanego pliku tekstowego cały tekst.\n",
    "\n",
    "## Zadanie 4\n",
    "\n",
    "Zaimplementuj grę w Wisielca - na samym początku odczytamy dane słowo (lub zdanie) i poprosimy gracza o zaproponowanie litery. Podana przez niego wartość musi być pojedynczą literą (wszystko jedno czy małą czy dużą) od A do Z. Jeśli litera się powtarza z podaną wcześniej, to informujemy o tym gracza i prosimy go o podanie litery jeszcze raz. Jeśli litera występuje w słowie i była do tej pory nieodkryta, to odkrywamy wszystkie te litery w słowie. Jeśli gracz nie zgadł litery, to zaznaczany jest karny punkt. Jeśli gracz przekroczy dozwoloną liczbę punktów karnych to przegrywa. Jeśli gracz zgadł wszystkie litery przed przekroczeniem dozwolonej liczby punktów karnych, to wygrywa.\n",
    "\n",
    "## Zadanie 5\n",
    "\n",
    "Dla danego słowa znajdź wszystkie litery które pojawiają się więcej niż raz.\n",
    "\n",
    "## Zadanie 6\n",
    "\n",
    "Dla danego słowa znajdź wszystkie pozycje na których pojawia się dana litera.\n",
    "\n",
    "## Zadanie 7\n",
    "\n",
    "Napisz funkcję która dla danego słowa znajduje najdłuższe podsłowo (fragment słowa - ciąg kolejnych znaków), które rozpoczyna się i kończy się tym samym znakiem. Jeśli w danym słowie jest wiele takich najdłuższych podsłów, to wynikiem jest dowolne z nich.\n",
    "\n",
    "## Zadanie 8\n",
    "\n",
    "Napisz program który przejdzie przez wszystkie cyfry danej liczby i zsumuje parami te same cyfry obok siebie. Jeśli wynik takiej sumy przekracza wartość 9, brana jest ostatnia cyfra sumy. Wynikiem programu będzie stworzona w taki sposób liczba.\n",
    "\n",
    "Przykłady: \n",
    "- dla wartości wejściowej 9442 program powinien zwrócić wartość 982\n",
    "- dla wartości 44522 będzie wynik 854\n",
    "- dla wartości 887722 dostaniemy 644\n",
    "\n",
    "## Zadanie 9\n",
    "\n",
    "Napisz program który przeprowadzi wielokrotnie przedstawioną powyżej operację, dotąd aż nie będzie istniała w liczbie żadna para cyfr do zsumowania. Wynikiem będzie powstała w ten sposób liczba."
   ]
  }
 ],
 "metadata": {
  "kernelspec": {
   "display_name": "Python 3",
   "language": "python",
   "name": "python3"
  },
  "language_info": {
   "codemirror_mode": {
    "name": "ipython",
    "version": 3
   },
   "file_extension": ".py",
   "mimetype": "text/x-python",
   "name": "python",
   "nbconvert_exporter": "python",
   "pygments_lexer": "ipython3",
   "version": "3.8.1"
  }
 },
 "nbformat": 4,
 "nbformat_minor": 4
}
