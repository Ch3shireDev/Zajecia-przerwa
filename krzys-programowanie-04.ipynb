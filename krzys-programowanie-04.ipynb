{
 "cells": [
  {
   "cell_type": "markdown",
   "metadata": {},
   "source": [
    "# Zadanie 1\n",
    "\n",
    "Ania bawi się liczbami z przedziału od 1 do 1 000 000. Każdą zapisuje jako iloczyn dwóch liczb, ale takich, których różnica jest możliwie najmniejsza.\n",
    "\n",
    "Napisz jednoparametrowa funkcję liczby, której parametrem jest lista liczb, a wynikiem odpowiadająca im lista par liczb (dwuelementowych list) utworzonych przez Anię. W każdej parze liczby zapisz tak, aby pierwsza nie była większa od drugiej.\n",
    "\n",
    "## Przykłady w Pythonie:\n",
    "- wynikiem `liczby([13,44,42])` jest `[[1,13],[4,11],[6,7]]`,\n",
    "- wynikiem `liczby([12,7,10,24])` jest `[[3,4],[1,7],[2,5],[4,6]]`,\n",
    "- wynikiem `liczby([4,25,46,33])` jest `[[2,2],[5,5],[2,23],[3,11]]`."
   ]
  },
  {
   "cell_type": "markdown",
   "metadata": {},
   "source": [
    "# Zadanie 2\n",
    "\n",
    "Lista Antka zawiera informacje o wyświetleniach jego strony internetowej. Dla każdego wyświetlenia, w dwuelementowej liście pamiętane są dwie dane: moment wejścia i czas, jaki użytkownik spędził na stronie. Dane zapisywane są w pełnych sekundach.\n",
    "\n",
    "Napisz jednoparametrową funkcję maxu, której parametrem jest lista Antka, a wynikiem maksymalna liczba użytkowników oglądających stronę Antka w tej samej sekundzie. Jako użytkownika oglądającego stronę w danej sekundzie, liczymy każdego, kto w tej sekundzie wchodzi na stronę, jest na niej od pewnego czasu, bądź w tej sekundzie przestaje ją oglądać.\n",
    "\n",
    "## Przykłady w Pythonie:\n",
    "\n",
    "- wynikiem `maxu([[1,2],[2,2]])` jest `2`,\n",
    "- wynikiem `maxu([[1,10],[2,8],[3,6]])` jest `3`,\n",
    "- wynikiem `maxu([[1,2],[2,3],[1,10],[2,2],[5,5]])` jest `4`."
   ]
  },
  {
   "cell_type": "markdown",
   "metadata": {},
   "source": [
    "# Zadanie 3\n",
    "\n",
    "Fabryka produkuje wyroby w kolejnych seriach (wszystkie wyroby danej serii są identyczne), a następnie ładuje do samochodów w celu przewiezienia do sklepu.\n",
    "\n",
    "Napisz dwuparametrową funkcję `ilesam`, której wynikiem jest minimalna liczba samochodów potrzebnych do przewiezienia wszystkich wyprodukowanych wyrobów. Pierwszy parametr funkcji jest niepustą listą dwuelementowych list, z których każda zawiera informacje o kolejnej serii wyrobów: liczbę wyrobów i masę pojedynczego wyrobu. Drugi parametr jest listą dopuszczalnych ładowności kolejnych przyjeżdżających samochodów.\n",
    "\n",
    "Zakładamy, że kolejne serie wyrobów ładowane są do samochodów w kolejności wyprodukowania, a samochody ładowane są w takiej kolejności, w jakiej przyjadą. Każdy samochód jest w stanie przewieźć co najmniej jeden wyrób z oczekujących na początku kolejki. Do dyspozycji jest wystarczająco wiele samochodów.\n",
    "\n",
    "## Przykłady\n",
    "- Wynikiem `ilesam([[4, 5], [2, 2], [1, 20]], [17, 25, 25, 17, 25])` jest `3` (pierwszy samochód przewiózł 3 wyroby, każdy o masie 5, drugi – 1 wyrób o masie 5 i 2 wyroby o masie 2, trzeci – 1 wyrób o masie 20).\n",
    "- Wynikiem `ilesam([[4, 5], [2, 2]])` jest `4` (pierwszy samochód przewiózł wszystkie 20 wyrobów o masie 1 i 1 wyrób o masie 5, drugi – 1 wyrób o masie 5 i 1 wyrób o masie 3, a trzeci i czwarty – po 1 wyrobie o masie 7)."
   ]
  }
 ],
 "metadata": {
  "kernelspec": {
   "display_name": "Python 3",
   "language": "python",
   "name": "python3"
  },
  "language_info": {
   "codemirror_mode": {
    "name": "ipython",
    "version": 3
   },
   "file_extension": ".py",
   "mimetype": "text/x-python",
   "name": "python",
   "nbconvert_exporter": "python",
   "pygments_lexer": "ipython3",
   "version": "3.7.4"
  }
 },
 "nbformat": 4,
 "nbformat_minor": 2
}
