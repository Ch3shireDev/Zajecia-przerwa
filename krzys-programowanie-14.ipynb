{
 "cells": [
  {
   "cell_type": "markdown",
   "metadata": {},
   "source": [
    "# Zajęcia z programowania\n",
    "\n",
    "## Zadanie 1\n",
    "\n",
    "Napisz program który oblicza, jaki dzień tygodnia będzie za `n` dni, gdzie `n` jest liczbą podaną przez użytkownika.\n",
    "\n",
    "## Zadanie 2\n",
    "\n",
    "Jaś dostaje w każdą środę 5 złotych, natomiast w każdy piątek 2 złote. W niedzielę wydaje 3 złote na cukierki. Stwórz funkcję która będzie pokazywała ile Jaś ma pieniędzy po `n` dniach, zaczynając od poniedziałku (0).\n",
    "\n",
    "## Zadanie 3\n",
    "\n",
    "Kaczka-dziwaczka co sekundę stawia dwa kroki do przodu, natomiast co trzecią sekundę - krok do tyłu. Napisz funkcję pozwalającą na przewidzenie jak daleko pójdzie po `n` krokach.\n",
    "\n",
    "## Zadanie 4\n",
    "\n",
    "Samochód porusza się w następujący sposób - startuje z prędkością v=1 m/s, i co każde 10 sekund podwaja swoją prędkość. Stwórz funkcję obliczającą, ile metrów przejedzie po `n` sekundach.\n",
    "\n",
    "## Zadanie 5\n",
    "\n",
    "Żuczek chodzi po sześciokącie w następujący sposób - co sekundę idzie na kolejny wierzchołek, ale co 10 sekund przeskakuje wierzchołek, lądując na kolejnym. Stwórz funkcję zwracającą informację na którym wierzchołku będzie żuczek po `n` sekundach.\n",
    "\n",
    "## Zadanie 6\n",
    "\n",
    "Robot porusza się po planszy przyspieszając dwukrotnie co każde 10 sekund. Napisz funkcję która wskaże ile sekund zajmie mu przejście `n` metrów.\n",
    "\n",
    "## Zadanie 7\n",
    "\n",
    "Bartek oszczędza pieniądze w następujący sposób - codziennie rano dokłada jednego dukata do skarbonki, co pięć dni natomiast dokłada dwa dukaty. W momencie kiedy po dołożeniu ma przynajmniej 100 dukatów, pobiera 50 z nich na książki. Napisz funkcję, która pozwoli ustalić ile danego dnia (po włożeniu dukatów i ewentualnym zabraniu pieniędzy ze skarbonki) skarbonka zawiera dukatów.\n",
    "\n",
    "## Zadanie 8\n",
    "\n",
    "Napisz funkcję która ustali ile stron książki przerzucimy, jeśli co sekundę będziemy przerzucać 1 stronę, natomiast co 5 sekund będziemy przerzucali dodatkowo 2 strony.\n",
    "\n",
    "## Zadanie 9\n",
    "\n",
    "Stwórz funkcję która przejdzie po słowie utworzonym z liczby w następujący sposób - za każdym razem kiedy napotka cyfrę 1 pójdzie o 1 krok do przodu, za każdym razem kiedy napotka cyfrę 2 pójdzie o dwa kroki do przodu i tak dalej. Jeśli napotka cyfrę 0, przestanie iść. Stwórz program który podaną liczbę przekonweruje na liczbę składającą się wyłącznie z odwiedzonych w ten sposób cyfr.\n",
    "\n",
    "## Zadanie 10\n",
    "\n",
    "Napisz funkcję która przejdzie po słowie w następujący sposób - za każdym razem kiedy funkcja napotka spółgłoskę to pójdzie jeden krok do przodu (standardowo), jeśli natomiast napotka samogłoskę - pójdzie dwa kroki do przodu. Wynikiem ma być słowo złożone z odwiedzonych w ten sposób liter.\n",
    "\n",
    "## Zadanie 11\n",
    "\n",
    "Napisz funkcję która ustali ile metrów przejedzie samochód po `t` sekundach, którego prędkość co sekundę zwiększa się o `a` metrów na sekundę. Samochód startuje z zerowej prędkości.\n",
    "\n",
    "## Zadanie 12\n",
    "\n",
    "Zmień powyższą funkcję w taki sposób, by tym razem liczyć używając milisekund.\n",
    "\n",
    "## Zadanie 13\n",
    "\n",
    "Stwórz program który zasymuluje ruch piłeczki w następujący sposób - piłeczka spada z wysokości `n` metrów z przyspieszeniem 10. Za każdym razem kiedy jej wysokość spadnie do zera - tj. piłeczka zderzy się z podłogą - jej prędkość powinna być odwracana i mnożona przez współczynnik 0.8. Zasymuluj ruch tak długo dopóki piłeczka nie będzie podskakiwała wyżej niż 0.001 m."
   ]
  }
 ],
 "metadata": {
  "kernelspec": {
   "display_name": "Python 3",
   "language": "python",
   "name": "python3"
  },
  "language_info": {
   "codemirror_mode": {
    "name": "ipython",
    "version": 3
   },
   "file_extension": ".py",
   "mimetype": "text/x-python",
   "name": "python",
   "nbconvert_exporter": "python",
   "pygments_lexer": "ipython3",
   "version": "3.8.1"
  }
 },
 "nbformat": 4,
 "nbformat_minor": 4
}
