{
 "cells": [
  {
   "cell_type": "markdown",
   "metadata": {},
   "source": [
    "# Konkurs próbny Logia\n",
    "\n",
    "## Zadanie 1 (10 punktów)\n",
    "\n",
    "Stwórz program który przyjmuje na wejściu zdanie złożone ze słów składających się z małych liter alfabetu łacińskiego. Zdanie składa się z co najmniej jednego słowa i ma długość co najmniej 5 znaków, licząc razem ze spacjami. Program rysuje na środku ekranu obrazek o szerokości 800 pikseli składający się ze zgrupowanych zielonych i czerwonych bloczków. Każda litera każdego kolejnego słowa jest reprezentowana przez kolejny bloczek - skierowany do góry jeśli litera jest samogłoską, lub skierowany w dół jeśli litera jest spółgłoską. Spacja jest interpretowana jako odstęp o szerokości jednego bloczka. Każda grupa bloczków ma na przemian kolory czerwony i zielony, licząc od pierwszego słowa w kolorze czerwonym.\n",
    "\n",
    "Wynik dla wiadomości wejściowej: `psinka w ciescie`\n",
    "![](./bloczki_a.png)\n",
    "\n",
    "Wynik dla wiadomości wejściowej: `bardzo lubie pythona`\n",
    "![](./bloczki_b.png)\n",
    "\n",
    "## Zadanie 2 (10 punktów)\n",
    "\n",
    "Zosia przekształca liczby w następujący sposób - jeśli liczba jest parzysta, to dzieli ją przez 2, natomiast jeśli liczba jest nieparzysta, to mnoży ją przez trzy a następnie dodaje jeden. Odkryła, że powtarzając takie działanie odpowiednio wiele razy, jest w stanie dla każdej liczby całkowitej dodatniej dotrzeć do wartości 1 - wtedy kończy zabawę. Napisz program przyjmujący na wejściu dodatnią liczbę całkowitą mniejszą od 100000 wypisujący na wyjściu liczbę kroków potrzebnych do dotarcia do liczby 1.\n",
    "\n",
    "### Przykłady\n",
    "\n",
    "- Wartość wejściowa `10` powinna spowodować wypisanie liczby 6, ponieważ potrzeba sześciu kroków by dotrzeć do jedynki (5, 16, 8, 4, 2, 1)\n",
    "- Wartość wejściowa `12` powinna spowodować wypisanie liczby 9, ponieważ potrzeba 9 kroków by dotrzeć do jedynki (6, 3, 10, 5, 16, 8, 4, 2, 1). "
   ]
  },
  {
   "cell_type": "markdown",
   "metadata": {},
   "source": [
    "## Zadanie 3 (10 punktów)\n",
    "\n",
    "**Szyfr przestawieniowy** polega na zamianie każdej litery według konkretnego klucza. Klucz przedstawia się jako 26 znaków będących różnymi małymi literami alfabetu łacińskiego - ich kolejność mówi, jak powinny być zamienione kolejne litery w szyfrowanym słowie. Znaki odstępów są zostawiane bez zmiany. Na przykład: wiadomość `psinka w ciescie` razem z kluczem `cabdefghijklmnopqrstuvwxyz` powinna po zaszyfrowaniu dać wynik: `psinkc w biesbie` (c na miejscu a, a na miejscu b, b na miejscu c - reszta bez zmian).\n",
    "\n",
    "Stwórz program który na podstawie podanego klucza pozwala na **odszyfrowanie** zaszyfrowanego zdania, składającego się z małych liter alfabetu łacińskiego oraz spacji. Program przyjmuje na wejściu najpierw zaszyfrowaną wiadomość, a następnie (w kolejnej linii) klucz szyfrujący wiadomość. Program powinien drukować na wyjściu odszyfrowane zdanie.\n",
    "\n",
    "### Przykłady\n",
    "\n",
    "- Wartości wejściowe: \n",
    "```\n",
    "psinkc w biesbie\n",
    "cabdefghijklmnopqrstuvwxyz\n",
    "```\n",
    "\n",
    "Powinny zwracać zdanie: `psinka w ciescie`\n",
    "\n",
    "- Wartości wejściowe:\n",
    "```\n",
    "cbseap mvcjf qzuipob\n",
    "bcdefghijklmnopqrstuvwxyza\n",
    "```\n",
    "\n",
    "powinny zwracać zdanie: `bardzo lubie pythona`"
   ]
  }
 ],
 "metadata": {
  "kernelspec": {
   "display_name": "Python 3",
   "language": "python",
   "name": "python3"
  },
  "language_info": {
   "codemirror_mode": {
    "name": "ipython",
    "version": 3
   },
   "file_extension": ".py",
   "mimetype": "text/x-python",
   "name": "python",
   "nbconvert_exporter": "python",
   "pygments_lexer": "ipython3",
   "version": "3.7.5"
  }
 },
 "nbformat": 4,
 "nbformat_minor": 2
}
