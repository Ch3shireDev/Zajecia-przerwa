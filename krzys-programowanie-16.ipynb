{
 "cells": [
  {
   "cell_type": "markdown",
   "metadata": {},
   "source": [
    "# Zajęcia z programowania\n",
    "\n",
    "## Zadanie 1\n",
    "\n",
    "Stwórz program który wypisze wszystkie liczby które:\n",
    "\n",
    "- mają dokładnie trzy cyfry,\n",
    "- ich liczba setek jest parzysta,\n",
    "- ich liczba dziesiątek jest podzielna przez 3,\n",
    "- ich liczba jedności jest podzielna przez 4.\n",
    "\n",
    "## Zadanie 2\n",
    "\n",
    "Stwórz program który wybierze z listy wszystkie liczby jednocześnie parzyste i podzielne przez 3.\n",
    "\n",
    "## Zadanie 3\n",
    "\n",
    "Stwórz program który zwróci informację ile wielokąt foremny o danej liczbie wierzchołków posiada przekątnych.\n",
    "\n",
    "## Zadanie 4\n",
    "\n",
    "Stwórz program który przyjmie na wejściu dane zdanie i jako wynik zwróci zdanie złożone z podwracanych słów.\n",
    "\n",
    "Przykład:\n",
    "\n",
    "- `ala ma kota` powinno zwrócić: `ala am atok`.\n",
    "\n",
    "## Zadanie 5\n",
    "\n",
    "Stwórz program który wypisze kolejne `n` par liczb zaprzyjaźnionych, tj. takich których wzajemne sumy dzielników właściwych są sobie równe.\n",
    "\n",
    "## Zadanie 6\n",
    "\n",
    "Stwórz program który wypisze kolejne `n` liczb doskonałych, tj. będących swoimi własnymi liczbami zaprzyjaźnionymi.\n",
    "\n",
    "## Zadanie 7\n",
    "\n",
    "Stwórz program wypisujący kolejne `n` liczb 'towarzyskich', tj. spełniających warunki liczb zaprzyjaźnionych w trójkach.\n",
    "\n",
    "## Zadanie 8\n",
    "\n",
    "Stwórz program który przejrzy listę elementów w liście i usunie elementy powtarzające się.\n",
    "\n",
    "## Zadanie 9\n",
    "\n",
    "Stwórz program który przejrzy listę elementów w liście i wskaże te które się powtarzają przynajmniej raz.\n",
    "\n",
    "## Zadanie 10\n",
    "\n",
    "Stwórz program który przyjmie na wejściu zdanie i usunie z niego słowa powtarzające się bezpośrednio po sobie.\n",
    "\n",
    "## Zadanie 11\n",
    "\n",
    "Stwórz program który dla przyjętego na wejściu pliku tekstowego (np. Pana Tadeusza) znajdzie najdłuższe słowo.\n",
    "\n",
    "## Zadanie 12\n",
    "\n",
    "Zaimplementuj grę w Wisielca - z podanego na wejściu słowa należy zgadywać brakujące litery. Gracz ma możliwość popełnienia `n` błędów, po kolejnym przegrywa. Każdorazowo zgadnięcie litery odsłania wszystkie te litery w słowie."
   ]
  }
 ],
 "metadata": {
  "kernelspec": {
   "display_name": "Python 3",
   "language": "python",
   "name": "python3"
  },
  "language_info": {
   "codemirror_mode": {
    "name": "ipython",
    "version": 3
   },
   "file_extension": ".py",
   "mimetype": "text/x-python",
   "name": "python",
   "nbconvert_exporter": "python",
   "pygments_lexer": "ipython3",
   "version": "3.8.1"
  }
 },
 "nbformat": 4,
 "nbformat_minor": 4
}
