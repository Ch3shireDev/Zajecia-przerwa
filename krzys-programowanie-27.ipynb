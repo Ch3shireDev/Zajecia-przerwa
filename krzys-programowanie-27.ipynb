{
 "cells": [
  {
   "cell_type": "markdown",
   "metadata": {},
   "source": [
    "# Programowanie 27\n",
    "\n",
    "## Zadanie 1\n",
    "\n",
    "Stwórz program który przyjmuje kolejno:\n",
    "- wartość `n` oznaczającą liczbę słów,\n",
    "- `n` kolejnych słów,\n",
    "- wartość `i` oznaczającą pozycję litery w słowie (zaczynając od zera),\n",
    "\n",
    "a następnie wypisze na ekran słowo zbudowane z i-tych liter przyjętych słów.\n",
    "\n",
    "Uwaga: Jeśli dane słowo jest krótsze niż `i`, litera jest zastępywana spacją.\n",
    "\n",
    "Przykład:\n",
    "\n",
    "Podano następujące wartości w programie:\n",
    "```\n",
    "4\n",
    "optyk\n",
    "wir\n",
    "pegaz\n",
    "osa\n",
    "1\n",
    "```\n",
    "\n",
    "Na ekran powinno zostać wypisane słowo:\n",
    "\n",
    "```\n",
    "pies\n",
    "```"
   ]
  },
  {
   "cell_type": "markdown",
   "metadata": {},
   "source": [
    "## Zadanie 2\n",
    "\n",
    "Napisz program który przyjmie kolejno:\n",
    "- rozmiar `n` macierzy kwadratowej\n",
    "- n^2 kolejnych wartości w macierzy (idąc wierszami)\n",
    "\n",
    "a następnie wypisze największą sumę kolumn w macierzy.\n",
    "\n",
    "Przykład:\n",
    "Podano następujące wartości:\n",
    "```\n",
    "3 1 2 3 6 5 4 1 1 1\n",
    "```\n",
    "(co odpowiada macierzy 3x3 o wartościach:\n",
    "\n",
    "$$\n",
    "\\begin{bmatrix} \n",
    "1 & 2 & 3 \\\\\n",
    "6 & 5 & 4\\\\\n",
    "1 & 1 & 2 \\\\\n",
    "\\end{bmatrix}\n",
    "$$\n",
    "\n",
    "Program powinien wypisać wartość `9` na wyjściu (suma liczb w trzeciej kolumie)."
   ]
  },
  {
   "cell_type": "markdown",
   "metadata": {},
   "source": [
    "## Zadanie 3\n",
    "\n",
    "Stwórz program który przyjmie na wejściu następujące parametry:\n",
    "\n",
    "- wartość `n` oznaczającą liczbę kolejnych wartości\n",
    "- `n` kolejnych wartości w postaci liczb całkowitych dodatnich\n",
    "\n",
    "a następnie wypisze na ekran jedynie te wartości, które są pierwsze."
   ]
  },
  {
   "cell_type": "markdown",
   "metadata": {},
   "source": [
    "## Zadanie 4\n",
    "\n",
    "Stwórz program który przyjmie na wejściu następujące parametry:\n",
    "- wartość `n` oznaczającą liczbę kolejnych wartości\n",
    "- `n` kolejnych liczb wielocyfrowych\n",
    "\n",
    "a następnie utworzy z cyfr w kolejnych kolumnach zestaw `m` kolejnych liczb, gdzie `m` to długość najkrótszej z liczb.\n",
    "\n",
    "Przykład:\n",
    "\n",
    "```\n",
    "5\n",
    "12345\n",
    "23456\n",
    "232\n",
    "12345\n",
    "11111\n",
    "```\n",
    "\n",
    "Wynik:\n",
    "```\n",
    "12211\n",
    "23321\n",
    "34231\n",
    "```"
   ]
  }
 ],
 "metadata": {
  "kernelspec": {
   "display_name": "Python 3",
   "language": "python",
   "name": "python3"
  },
  "language_info": {
   "codemirror_mode": {
    "name": "ipython",
    "version": 3
   },
   "file_extension": ".py",
   "mimetype": "text/x-python",
   "name": "python",
   "nbconvert_exporter": "python",
   "pygments_lexer": "ipython3",
   "version": "3.8.5"
  }
 },
 "nbformat": 4,
 "nbformat_minor": 4
}
