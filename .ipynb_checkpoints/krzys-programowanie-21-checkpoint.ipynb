{
 "cells": [
  {
   "cell_type": "markdown",
   "metadata": {},
   "source": [
    "# Zajęcia z programowania 21\n",
    "\n",
    "## Zadanie 1\n",
    "\n",
    "Napisz funkcję która dla danej liczby `n` określającej bok kwadratu oraz listy `tab` określającej liczbę zajętych pól, zwróci liczbę niezajętych pól kwadratu.\n",
    "\n",
    "## Zadanie 2\n",
    "\n",
    "Napisz funkcję która dla danej liczby `n` określającej bok kwadratu oraz listy `tab` określającej liczbę zajętych działek, zwróci listę tych działek, które nie sąsiadują z żadną inną działką.\n",
    "\n",
    "\n",
    "## Zadanie 3 (Logia 16, 2 etap)\n",
    "\n",
    "Kwadratowy teren podzielono na n x n identycznych kwadratowych działek. Działki ponumerowano liczbami od $1$ do $n^2$–  kolejno  rzędami,  w  każdym  rzędzie  według  tej  samej  kolejności.  Niektóre  działki zabudowano. Działkami sąsiadującymi z daną działką są działki znajdujące się na tych samych pozycjach w rzędach poprzednim  i  następnym  oraz  działki  położone  na  poprzedniej  i  następnej  pozycji  w  tym  samym  rzędzie, co dana  działka.  Tak  więc,  dla  każdej  działki,  która  nie  jest  położona  przy  krawędzi  terenu,  istnieją  cztery działki z nią sąsiadujące, zaś dla tych przy krawędzi terenu – dwie lub trzy. \n",
    "\n",
    "Napisz dwuparametrową funkcję `ms(n, tab)`, której pierwszy parametr n określa liczbę rzędów $(2\\leq n \\leq 10)$, a drugi  –  niepustą  listę  numerów  działek,  które  zostały  zabudowane.  \n",
    "\n",
    "Wynikiem  funkcji  jest  uporządkowana rosnąco   lista   numerów   tych   niezabudowanych   działek,   które   sąsiadują   z   maksymalną   liczbą   działek zabudowanych.  \n",
    "\n",
    "## Zadanie 4\n",
    "\n",
    "Napisz funkcję która policzy w słowie wszystkie samogłoski które nie są obok żadnej innej samogłoski.\n",
    "\n",
    "## Zadanie 5\n",
    "\n",
    "Napisz funkcję która zweryfikuje, czy liczba liter `a` w słowie jest taka sama jak liczba liter `b`.\n",
    "\n",
    "## Zadanie 6\n",
    "\n",
    "Napisz funkcję która sprawdzi, czy idąc od lewej do prawej w słowie spełniony jest warunek że po każdej literze a musi znajdywać się (w dalszej części słowa) litera b.\n",
    "\n",
    "## Zadanie 7 (Logia 16, 2 etap)\n",
    "\n",
    "Słowa Bartka to takie słowa, w których litery a i b występują w parach: każdemu wystąpieniu litery `a` musi odpowiadać  inne  wystąpienie  litery `b`  w  dalszej  części  słowa  i  odwrotnie  –  każde  wystąpienie  litery `b` musi być poprzedzone innym wystąpieniem litery `a`.  \n",
    "\n",
    "Napisz  jednoparametrową  funkcję `spr(slowo)`,  której  parametrem  jest  słowo.  Wynikiem  jest  długość najdłuższego prefiksu będącego słowem Bartka. Prefiks to początkowy fragment słowa lub całe słowo. \n",
    "\n",
    "Przykłady: \n",
    "- wynikiem `spr('balon')` jest `0`, \n",
    "- wynikiem `spr('abrakadabra')` jest `3`, \n",
    "- wynikiem `spr('arbuz')` jest `5`.\n"
   ]
  }
 ],
 "metadata": {
  "kernelspec": {
   "display_name": "Python 3",
   "language": "python",
   "name": "python3"
  },
  "language_info": {
   "codemirror_mode": {
    "name": "ipython",
    "version": 3
   },
   "file_extension": ".py",
   "mimetype": "text/x-python",
   "name": "python",
   "nbconvert_exporter": "python",
   "pygments_lexer": "ipython3",
   "version": "3.8.3"
  }
 },
 "nbformat": 4,
 "nbformat_minor": 4
}
