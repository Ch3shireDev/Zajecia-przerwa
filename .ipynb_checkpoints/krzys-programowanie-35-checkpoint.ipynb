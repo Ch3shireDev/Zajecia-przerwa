{
 "cells": [
  {
   "cell_type": "markdown",
   "metadata": {},
   "source": [
    "# Zajęcia z programowania 35\n",
    "\n",
    "## Drzewa\n",
    "\n",
    "Na poprzednich zajęciach uczyliśmy się o strukturze drzewa. Dla przypomnienia - **drzewo** to struktura danych w której każdy element, obok wartości, ma wyróżniony element nazywany **pniem** lub **rodzicem**, oraz zestaw elementów nazywanych **gałęziami** lub **dziećmi**."
   ]
  },
  {
   "cell_type": "markdown",
   "metadata": {},
   "source": [
    "![](tree2.png)"
   ]
  },
  {
   "cell_type": "markdown",
   "metadata": {},
   "source": [
    "Jeśli wprowadzamy dodatkowy warunek, że dzieci (gałęzi) może być co najwyżej dwa, mówimy o **drzewie binarnym**."
   ]
  },
  {
   "cell_type": "markdown",
   "metadata": {},
   "source": [
    "## Wprowadzenie\n",
    "\n",
    "Słownik jest strukturą analogiczną do listy, z tym że do kolejnych komponentów odwołujemy się nie przez indeksy, a ich nazwy. Na przykład:\n",
    "\n",
    "```python\n",
    "slownik = {'pierwszy': 123, 'drugi': 456, 'trzeci': 789}\n",
    "```\n",
    "\n",
    "jest strukturą o trzech wartościach pod konkretnymi adresami. Odwołanie się poprzez `slownik['pierwszy']` zwraca wartość 123, `slownik['drugi']` zwraca 456 i tak dalej. W ten sposób można też przypisywać wartości:\n",
    "\n",
    "```python\n",
    "slownik['pierwszy'] = 'abc'\n",
    "```\n",
    "\n",
    "sprawia, że pod indeksem `pierwszy` widnieje wartość `'abc'`."
   ]
  },
  {
   "cell_type": "markdown",
   "metadata": {},
   "source": [
    "## Zadanie 1 - sortowanie liczb\n",
    "\n",
    "Drzewa binarne można wykorzystywać do sortwania liczb. Na początku wprowadzamy następującą strukturę danych:\n",
    "\n",
    "```python\n",
    "element = {value: '', left: '', right: ''}\n",
    "```\n",
    "\n",
    "gdzie umawiamy się, że każdy element drzewa będzie składał się z trzech kawałków - **wartości** (`value`), **lewej gałęzi** (`left`) oraz **prawej gałęzi** (`right`)."
   ]
  },
  {
   "cell_type": "markdown",
   "metadata": {},
   "source": [
    "Następnie tworzymy trzy funkcje według następującego schematu:\n",
    "\n",
    "#### Funkcja `create_tree(wartosci)`\n",
    "1. stwórz element root o wartości pierwszego elementu listy wartości i pustych gałęziach\n",
    "2. dodaj do elementu root wszystkie pozostałe elementy listy wartości za pomocą funkcji `add_element`\n",
    "    \n",
    "#### Funkcja `add_element(pień, wartość)`\n",
    "1. Porównaj wartość pnia z podaną wartością, jeśli jest mniejsza, wybierz lewą gałąź, jeśli większa, wybierz prawą.\n",
    "2. Jeśli wybrana gałąź jest pusta, wpisz na jej miejsce element drzewa z podaną wartością\n",
    "3. W przeciwnym wypadku wywołaj funkcję `add_element` na podanej gałęzi.\n",
    "\n",
    "#### Funkcja `get_array(pień)`\n",
    "1. Jeśli pień jest pusty, zwróć pustą listę.\n",
    "2. W przeciwnym wypadku, zwróć sumę trzech list:\n",
    "    - listy zwróconej przez `get_array` od lewej gałęzi pnia\n",
    "    - listy stworzonej z wartości przechowywanej przez pień\n",
    "    - listy zwróconej przez `get_array` od prawej gałęzi pnia\n",
    "\n"
   ]
  },
  {
   "cell_type": "code",
   "execution_count": 14,
   "metadata": {},
   "outputs": [
    {
     "data": {
      "text/html": [
       "<script>\n",
       "code_show=true; \n",
       "function code_toggle() {\n",
       " if (code_show){\n",
       " $('div.input').hide();\n",
       " } else {\n",
       " $('div.input').show();\n",
       " }\n",
       " code_show = !code_show\n",
       "} \n",
       "$( document ).ready(code_toggle);\n",
       "</script>\n",
       "Aby zobaczyć kod, kliknij <a href=\"javascript:code_toggle()\">tutaj</a>."
      ],
      "text/plain": [
       "<IPython.core.display.HTML object>"
      ]
     },
     "execution_count": 14,
     "metadata": {},
     "output_type": "execute_result"
    }
   ],
   "source": [
    "from IPython.display import HTML\n",
    "\n",
    "HTML('''<script>\n",
    "code_show=true; \n",
    "function code_toggle() {\n",
    " if (code_show){\n",
    " $('div.input').hide();\n",
    " } else {\n",
    " $('div.input').show();\n",
    " }\n",
    " code_show = !code_show\n",
    "} \n",
    "$( document ).ready(code_toggle);\n",
    "</script>\n",
    "Aby zobaczyć kod, kliknij <a href=\"javascript:code_toggle()\">tutaj</a>.''')"
   ]
  },
  {
   "cell_type": "code",
   "execution_count": 9,
   "metadata": {},
   "outputs": [
    {
     "name": "stdout",
     "output_type": "stream",
     "text": [
      "[1, 5, 4, 8, 3, 2, 9, 7, 10, 6]\n",
      "[1, 2, 3, 4, 5, 6, 7, 8, 9, 10]\n"
     ]
    }
   ],
   "source": [
    "from random import shuffle\n",
    "\n",
    "def create_tree(values):\n",
    "    root = None\n",
    "    for value in values:\n",
    "        if root is None:\n",
    "            root = {'value': value, 'left':None, 'right':None}\n",
    "        else:\n",
    "            add_element(root, value)\n",
    "    return root\n",
    "\n",
    "def add_element(root, value):\n",
    "    if value < root['value']:\n",
    "        if root['left'] is None:\n",
    "            root['left'] = {'value': value, 'left': None, 'right': None}\n",
    "        else:\n",
    "            add_element(root['left'], value)\n",
    "    else:\n",
    "        if root['right'] is None:\n",
    "            root['right'] = {'value': value, 'left': None, 'right': None}\n",
    "        else:\n",
    "            add_element(root['right'], value)\n",
    "        \n",
    "\n",
    "def get_array(element):\n",
    "    if element is None:\n",
    "        return []\n",
    "    left = get_array(element['left'])\n",
    "    center = element['value']\n",
    "    right = get_array(element['right'])\n",
    "    return left + [center] + right\n",
    "    \n",
    "\n",
    "tab = [1,2,3,4,5,6,7,8,9,10]\n",
    "shuffle(tab)\n",
    "print(tab)\n",
    "tree = create(tab)\n",
    "tab2 = show(tree)\n",
    "print(tab2)"
   ]
  },
  {
   "cell_type": "markdown",
   "metadata": {},
   "source": [
    "## Zadanie z Logii\n",
    "\n",
    "![](./all/grafy/etap3-2016-zad1.png)\n",
    "\n",
    "Do zadania możemy podejść w sprytny sposób:\n",
    "\n",
    "1. Wiemy, że opisy Małgosi i Karola zawierają wszystkie elementy drzewa, przedstawione jednokrotnie. Dodatkowo, miasto początkowe możemy zidentyfikować jako pierwsze miasto na liście Małgosi.\n",
    "2. Można zauważyć, że gdyby droga składała się z jednego miasta, to listy Małgosi, Karola i Pawła byłyby identyczne.\n",
    "3. Drzewo miast można interpretować jako stolicę i dwa mniejsze drzewa odchodzące od stolicy.\n",
    "4. Lista generowana przez Pawła może zostać rozdzielona na trzy kawałki - listę wygenerowaną dla lewego zbioru miast, listę wygenerowaną dla prawego zbioru miast oraz stolicę.\n",
    "5. Listę generowaną przez Małgosię można rozdzielić na trzy elementy - stolicę (pierwszy z nich), elementy lewej odnogi stolicy, elementy prawej odnogi stolicy.\n",
    "6. Listę generowaną przez Karola można rozdzielić na trzy elementy - elementy lewej odnogi stolicy, stolicę, oraz elementy prawej odnogi stolicy.\n",
    "\n",
    "Propozycja rozwiązania:\n",
    "\n",
    "### Funkcja `opis(malgosia, karol)`\n",
    "\n",
    "1. Jeśli lista Małgosi jest mniejsza niż 2, zwróć listę Małgosi\n",
    "2. Ustaw jako stolicę pierwszy element z listy Małgosi\n",
    "3. Ustaw jako liczbę elementów lewej gałęzi `n` liczbę elementów przed stolicą na liście Karola\n",
    "4. Rozdziel listę Małgosi na trzy części - stolicę (jeden element), lewą gałąź (`n` elementów), prawą gałąź (resztę elementów).\n",
    "5. Rozdziel listę Karola na trzy części - lewą gałąź (`n` elementów), stolicę (jeden element), prawą gałąź (resztę elementów).\n",
    "6. Pierwsza część listy Pawła to opis składający się z lewej gałęzi Marysi i lewej gałęzi Karola.\n",
    "7. Druga część listy Pawła to opis składający się z prawej gałęzi Marysi i prawej gałęzi Karola.\n",
    "8. Trzecia część listy Pawła to stolica.\n",
    "9. Zwróć listę Pawła stworzoną z powyższych trzech części."
   ]
  },
  {
   "cell_type": "code",
   "execution_count": 36,
   "metadata": {},
   "outputs": [],
   "source": [
    "def opis(m, k):\n",
    "    if len(m) < 2:\n",
    "        return m\n",
    "    stolica = m[0]\n",
    "    n = k.index(stolica)\n",
    "    m1, m2 = m[1:n+1], m[n+1:]\n",
    "    k1, k2 = k[:n], k[n+1:]\n",
    "    return opis(m1,k1) + opis(m2,k2) + [stolica]\n",
    "\n",
    "assert opis([4,2,1,3,5,6], [1,2,3,4,6,5]) == [1,3,2,6,5,4]\n",
    "assert opis([1,2,4,5,3,6,7], [4,2,5,1,6,3,7]) == [4,5,2,6,7,3,1]\n",
    "assert opis([1,2,4,3], [4,2,1,3]) == [4,2,3,1]"
   ]
  },
  {
   "cell_type": "markdown",
   "metadata": {},
   "source": [
    "## Zadanie (pajęczaki)\n",
    "\n",
    "![](./all/grafy/pajeczaki.png)"
   ]
  },
  {
   "cell_type": "markdown",
   "metadata": {},
   "source": [
    "Od razu można zauważyć, że pajęczaki zbudowane są w formie drzewa - dla każdego elementu można wyróżnić rodzica (pień) oraz elementy potomne (gałęzie). W podanym opisie mamy jedynie informację o tym, ile potomków ma każdy z elementów (zero, jeden, dwa, trzy), ale nie mamy podanej bezpośredniej informacji o połączeniach między elementami.\n",
    "\n",
    "Proponuję następujące rozwiązanie problemu - poziom pajęczaka zaczynającego się od danego elementu jest równy 1 + największy z poziomów potomnych pajęczaków. Dla pajęczaka `'Z'` oraz `'J'` rozwiązania są bardzo proste - `Z` zwraca wartość 1 (brak elementów potomnych), pajęczak zaczynający się od `J` zwraca 1 + poziom pajęczaka potomnego.\n",
    "\n",
    "Pajęczaki zaczynające się od `'D'` lub `'T'` są trochę bardziej skomplikowane - nie jest wiadome, która część słowa należy do której części. Jednakowoż, jest sposób aby się dowiedzieć:\n",
    "\n",
    "- Dla pajęczaka zaczynającego się od `'D'` - podpajęczak 'lewy' będzie posiadał jedną wartość `Z` + tyle ile jest wartości `'D'` + dwa razy tyle ile jest wartości '`T`'. Rozdzielamy resztę słowa na dwa podpajęczaki które spełniają taką własność.\n",
    "\n",
    "- Dla pajęczaka zaczynającego się od `'T'` mamy analogicznie trzy podpajęczaki spełniające wyżej opisaną własność.\n",
    "\n",
    "#### Propozycja funkcji `stp(pajeczak)`\n",
    "1. Jeśli `pajeczak` jest długości zero, zwróć długość 0\n",
    "2. Jeśli `pajeczak` jest dlugosci jeden, zwróć długość 1\n",
    "3. Jeśli pierwsza litera pajęczaka to `J`, zwróć 1 + długość podpajęczaka (slowo od 1 do końca)\n",
    "4. Jeśli pierwsza litera pajęczaka to `D`, zwróć 1 + maks długości podpajęczaka pierwszego i drugiego (niżej informacja na temat podziału)\n",
    "5. Jesli pierwsza litera pajęczaka to `T`, zwróć 1 + maks długości podpajęczaka pierwszego, drugiego i trzeciego (niżej informacja na temat podziału)\n",
    "\n",
    "#### Propozycja funkcji `podzial(pajeczak)`\n",
    "\n",
    "1. Stwórz licznik ustawiony na jeden (szukamy przynajmniej jednego zakończenia pajęczaka)\n",
    "2. Stwórz listę na słowa\n",
    "3. Stwórz puste słowo: bufor.\n",
    "2. Powtarzaj co następuje aż do końca słowa\n",
    "2. Dodaj literę do słowa-bufora.\n",
    "3. Jeśli litera to 'Z', obniż licznik o 1\n",
    "4. Jeśli litera to 'D', podwyższ licznik o 1\n",
    "4. Jeśli litera to 'T', podwyższ licznik o 2\n",
    "5. Jeśli licznik osiągnął zero, to:\n",
    "6. Dodaj słowo-bufor do listy słów i wyzeruj słowo-bufor.\n",
    "7. Ustaw licznik na 1.\n",
    "8. Po zakończeniu pętli zwróć listę słów.\n",
    "\n"
   ]
  },
  {
   "cell_type": "code",
   "execution_count": 95,
   "metadata": {},
   "outputs": [],
   "source": [
    "def get_index(slowo):\n",
    "    counter = 1\n",
    "    for i in range(len(slowo)):\n",
    "        if slowo[i] == 'D':\n",
    "            counter += 1\n",
    "        if slowo[i] == 'T':\n",
    "            counter += 2\n",
    "        if slowo[i] == 'Z':\n",
    "            counter -= 1\n",
    "        if counter == 0:\n",
    "            return i+1\n",
    "\n",
    "def stp(slowo):\n",
    "    if len(slowo) < 2:\n",
    "        return len(slowo)\n",
    "    root = slowo[0]\n",
    "    if root == 'J':\n",
    "        return 1+stp(slowo[1:])\n",
    "    if root == 'D':\n",
    "        index = get_index(slowo[1:])+1\n",
    "        s1, s2 = slowo[1:index], slowo[index:]\n",
    "        return 1+max(stp(s1), stp(s2))\n",
    "    if root == 'T':\n",
    "        index1 = get_index(slowo[1:])+1\n",
    "        index2 = get_index(slowo[index1:]) + index1\n",
    "        s1,s2,s3 = slowo[1:index1],slowo[index1:index2], slowo[index2:]\n",
    "        return 1+max(stp(s1), stp(s2), stp(s3))\n",
    "\n",
    "\n",
    "assert stp('JDJDZJDZZZ') == 7\n",
    "assert stp('TJJJDZZDZZJZ') == 6\n",
    "\n",
    "#assert get_index('TZZZ') == 3\n",
    "#assert get_index('TZDZZZ') == 5\n"
   ]
  }
 ],
 "metadata": {
  "kernelspec": {
   "display_name": "Python 3",
   "language": "python",
   "name": "python3"
  },
  "language_info": {
   "codemirror_mode": {
    "name": "ipython",
    "version": 3
   },
   "file_extension": ".py",
   "mimetype": "text/x-python",
   "name": "python",
   "nbconvert_exporter": "python",
   "pygments_lexer": "ipython3",
   "version": "3.8.3"
  }
 },
 "nbformat": 4,
 "nbformat_minor": 2
}
