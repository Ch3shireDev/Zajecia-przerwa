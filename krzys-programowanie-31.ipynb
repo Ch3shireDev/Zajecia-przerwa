{
 "cells": [
  {
   "cell_type": "markdown",
   "metadata": {},
   "source": [
    "# Zajęcia z programowania\n",
    "\n",
    "## Zadanie 1\n",
    "\n",
    "Stwórz program, który przyjmie zestaw liczb oddzielonych przecinkami i wypisze listę wspólnych dzielników wszystkich tych liczb, również oddzielonych przecinkami.\n",
    "\n",
    "### Przykład\n",
    "\n",
    "```\n",
    "./python dzielniki.py\n",
    "15,25,35,45\n",
    "\n",
    "1,5\n",
    "```\n",
    "\n",
    "## Zadanie 2\n",
    "\n",
    "Stwórz program, który przyjmie na wejściu słowo składające się z ciągu znaków, a na wyjściu utworzy \"choinkę\", tj. ciąg słów o zwiększającej się długości o 1, utworzonej z kolejnych kawałków wejściowego słowa. Jeśli słowo zakończy się przedwcześnie, brakujące pola zostaną uzupełnione kropkami.\n",
    "\n",
    "### Przykład\n",
    "\n",
    "```\n",
    "python choinka.py\n",
    "pieslubiciastkaimalekotki\n",
    "\n",
    "p\n",
    "ie\n",
    "slu\n",
    "bici\n",
    "astka\n",
    "imalek\n",
    "otki...\n",
    "```"
   ]
  },
  {
   "cell_type": "markdown",
   "metadata": {},
   "source": [
    "## Zadanie 3\n",
    "\n",
    "Ola lubi łamigłówki słowne. Interesują ją szczególnie słowa-anagramy, czyli wyrazy powstałe przez przestawienie liter innego wyrazu. Pomóż Oli pogrupować słowa-anagramy i napisz program `anagramy.py`, którego daną wejściową będzie lista słów oddzielonych przecinkami, składajacych się z małych liter alfabetu łacińskiego. Wynikiem programu będą kolejne grupy słów składające się z kolejnych anagramów jednego słowa.\n",
    "\n",
    "### Przykład\n",
    "\n",
    "```\n",
    "python ./anagramy.py\n",
    "kto,tyran,kra,kot,pies,tok,narty,rak\n",
    "\n",
    "kto\n",
    "kot\n",
    "tok\n",
    "\n",
    "tyran\n",
    "narty\n",
    "\n",
    "kra\n",
    "rak\n",
    "\n",
    "pies\n",
    "```"
   ]
  }
 ],
 "metadata": {
  "kernelspec": {
   "display_name": "Python 3",
   "language": "python",
   "name": "python3"
  },
  "language_info": {
   "codemirror_mode": {
    "name": "ipython",
    "version": 3
   },
   "file_extension": ".py",
   "mimetype": "text/x-python",
   "name": "python",
   "nbconvert_exporter": "python",
   "pygments_lexer": "ipython3",
   "version": "3.8.3"
  }
 },
 "nbformat": 4,
 "nbformat_minor": 4
}
