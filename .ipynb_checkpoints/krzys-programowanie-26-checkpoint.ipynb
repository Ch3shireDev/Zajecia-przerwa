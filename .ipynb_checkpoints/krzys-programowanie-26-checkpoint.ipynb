{
 "cells": [
  {
   "cell_type": "markdown",
   "metadata": {},
   "source": [
    "# Zajęcia z programowania 26\n",
    "\n",
    "## Zadanie 1\n",
    "\n",
    "Stwórz funkcje które przyjmują na wejściu macierz wartości (listę list) i zwracają na wyjściu listę elementów, z których każdy jest:\n",
    "\n",
    "- a) sumą wartości kolejnych wierszy\n",
    "- b) sumą wartości kolejnych kolumn\n",
    "- c) maksymalną z wartości w kolejnych kolumnach\n",
    "- d) sumą kwadratów wartości w kolejnych kolumnach\n",
    "\n",
    "Na przykład macierz:\n",
    "$$\\begin{bmatrix}1&2&3\\\\4&5&6\\\\5&4&3\\end{bmatrix}$$\n",
    "\n",
    "zwracałaby po przetworzeniu przez funkcje następujące wyniki:\n",
    "\n",
    "- a) $[6,15,12]$ (sumy kolejnych wierszy)\n",
    "- b) $[10,11,12]$ (sumy kolejnych kolumn)\n",
    "- c) $[5,5,6]$ (maksymalne wartości kolejnych kolumn)\n",
    "- d) $[42,45,54]$ (sumy kwadratów wartości z kolejnych kolumn)"
   ]
  },
  {
   "cell_type": "markdown",
   "metadata": {},
   "source": [
    "## Zadanie 2\n",
    "\n",
    "Stwórz program, który dla danej listy wartości znajdzie parę sąsiadujących liczb o najwyższej średniej.\n",
    "\n",
    "## Zadanie 3\n",
    "\n",
    "Modyfikacja poprzedniego programu - stwórz analogiczny program znajdujący pary o najwyższej średniej, jednak tym razem program będzie operował na macierzy - liście list. Pary mogą być dobierane zarówno w wierszach jak i w kolumnach."
   ]
  },
  {
   "cell_type": "markdown",
   "metadata": {},
   "source": [
    "## Zadanie 4\n",
    "\n",
    "Dana jest macierz liczb $n\\times n$ - lista $n$ list o $n$ wartościach każda. Stwórz program który znajdzie w podanej liście wartość o maksymalnej sumie wartości sąsiadujących w kolumnach i w wierszach.\n",
    "\n",
    "Na przykład w macierzy:\n",
    "\n",
    "\n",
    "$$\\begin{bmatrix}1&1&1&1&1\\\\2&1&1&1&2\\\\1&1&5&1&1\\\\1&0&0&0&1\\\\0&1&0&1&0\\end{bmatrix}$$\n",
    "\n",
    "Środkowa wartość (5) ma czterech sąsiadów - 1, 1, 1, 0. Oznacza to, że sumaryczna wartość wszystkich sąsiadów dla tej wartości to 3."
   ]
  },
  {
   "cell_type": "markdown",
   "metadata": {},
   "source": [
    "## Zadanie 5 (Działki)\n",
    "\n",
    "Kwadratowy teren podzielono na `n x n` identycznych kwadratowych działek. Działki ponumerowano\n",
    "liczbami od 1 do n2 – kolejno rzędami, w każdym rzędzie według tej samej kolejności. Niektóre działki\n",
    "zabudowano.\n",
    "\n",
    "Działkami sąsiadującymi z daną działką są działki znajdujące się na tych samych pozycjach w rzędach\n",
    "poprzednim i następnym oraz działki położone na poprzedniej i następnej pozycji w tym samym rzędzie,\n",
    "co dana działka. Tak więc, dla każdej działki, która nie jest położona przy krawędzi terenu, istnieją cztery\n",
    "działki z nią sąsiadujące, zaś dla tych przy krawędzi terenu – dwie lub trzy.\n",
    "\n",
    "Napisz dwuparametrową funkcję `ms`, której pierwszy parametr `n` określa liczbę rzędów $(2 \\leq n \\leq 10)$,\n",
    "a drugi – niepustą listę numerów działek, które zostały zabudowane. Wynikiem funkcji jest uporządkowana\n",
    "rosnąco lista numerów tych niezabudowanych działek, które sąsiadują z maksymalną liczbą działek\n",
    "zabudowanych.\n",
    "\n",
    "Przykłady:\n",
    "– wynikiem `ms(4,[9,10,14])` jest [13], \n",
    "- wynikiem `ms(3,[4,5,6])` jest [1,2,3,7,8,9].\n",
    "\n",
    "## Zadanie 10 (Latarnie).\n",
    "\n",
    "Na prostokątnym placu stoją w rzędach latarnie. Kuba ma rozstrzygnąć, pod którą latarnią jest najjaśniej. Liczba latarni w każdym rzędzie jest taka sama. Odległości pomiędzy sąsiednimi latarniami w rzędzie i pomiędzy rzędami są identyczne. Każda z latarń emituje światło o natężeniu określonym liczbą od 0 (nie świeci - zepsuła się lub nikt jej nie włączył) do 9.\n",
    "\n",
    "Latarnia oświetla miejsce, na którym stoi, a także miejsca pod ośmioma (lub mniej, jeśli znajduje się na krawędzi placu) latarniami, w następujący sposób:\n",
    "\n",
    "- miejsce, gdzie stoi latarnia, jest oświetlane przez nią z jasnością równą natężeniu światła tej latarni,\n",
    "- miejsca pod sąsiednimi latarniami w rzędzie, a także stojącymi na tych samych pozycjach w dwóch sąsiednich rzędach, są przez nią oświetlone z dwukrotnie mniejszą jasnością,\n",
    "- miejsca pod latarniami stojącymi najbliżej na skos od danej latarni (tj. znajdujące się w sąsiednich rzędach na pozycji różniącej się o jeden), są przez nią oświetlone z trzykrotnie mniejszą jasnością, zaniedbujemy wpływ latarni na oświetlenie miejsc położonych dalej niż ww., pomijamy wysokość latarni.\n",
    "\n",
    "Wyznaczając jasność w danym miejscu sumujemy składowe jasności.\n",
    "\n",
    "Pomóż Kubie i napisz funkcję `maxj(latarnie)`, której wynikiem jest dwuelementowa lista określająca numer rzędu i numer latarni, pod którą jest najjaśniej. Parametr `latarnie` jest listą list opisujących kolejne rzędy. Każdy rząd opisany jest listą zawierającą jednocyfrowe liczby określające natężenie światła kolejnych latarń w tym rzędzie. Zakładamy, że dane są tak dobrane, że jest tylko jedna latarnia, pod którą jest najjaśniej. Liczby rzędów i latarń w rzędzie są dodatnie, nie większe niż 20.\n",
    "\n",
    "Przykłady:\n",
    "- Wynikiem \t`maxj([[1, 2, 3, 2],[0, 0, 1, 2]])` jest `[1, 3]`,\n",
    "- Wynikiem \t`maxj([[8, 1, 1],[4, 6, 0],[6, 2, 1]])` jest `[2, 1]`.\n",
    "- Wynikiem \t`maxj([[1],[6],[3],[5],[3]])` jest `[3, 1]`."
   ]
  }
 ],
 "metadata": {
  "kernelspec": {
   "display_name": "Python 3",
   "language": "python",
   "name": "python3"
  },
  "language_info": {
   "codemirror_mode": {
    "name": "ipython",
    "version": 3
   },
   "file_extension": ".py",
   "mimetype": "text/x-python",
   "name": "python",
   "nbconvert_exporter": "python",
   "pygments_lexer": "ipython3",
   "version": "3.8.3"
  }
 },
 "nbformat": 4,
 "nbformat_minor": 4
}
