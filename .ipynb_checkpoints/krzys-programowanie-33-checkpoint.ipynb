{
 "cells": [
  {
   "cell_type": "markdown",
   "metadata": {},
   "source": [
    "# Zajęcia z programowania 33\n",
    "\n",
    "## Lista umiejętności\n",
    "\n",
    "- przeszukiwanie listy w poszukiwaniu konkretnego elementu\n",
    "- znajdywanie elementu minimalnego\n",
    "- znajdywanie elementu maksymalnego\n",
    "- znajdywanie powtórzeń elementów\n",
    "- znajdywanie par o danej charakterystyce\n",
    "- znajdywanie NWD, NWW\n",
    "\n",
    "### Do nauczenia\n",
    "\n",
    "- transformacja danych\n",
    "- podróż po grafach\n",
    "- symulacje warunkowe"
   ]
  },
  {
   "cell_type": "markdown",
   "metadata": {},
   "source": [
    "## Zadanie\n",
    "\n",
    "Żółw porusza się po trasie wyznaczonej przez boki sześciokąta. Pierwszy bok przemierza z prędkością\n",
    "1, drugi i każdy parzysty z prędkością o 3 większą od poprzedniej wartości, trzeci i każdy kolejny\n",
    "nieparzysty z prędkością o 1 mniejszą od poprzedniej. Po każdych dwóch okrążeniach żółw jest\n",
    "zmęczony i zamiast o 1 zmniejsza swą prędkość o 10.\n",
    "\n",
    "Napisz jednoparametrową funkcję `ile(n)`, której wynikiem będzie prędkość żółwia na n-tym boku.\n",
    "Parametr n może przyjmować wartości od 1 do 10 000.\n",
    "\n",
    "### Przykłady\n",
    "- Wynikiem `ile(4)` jest `6`.\n",
    "- Wynikiem `ile(14)` jest `7`.\n",
    "- Wynikiem `ile(100)` jest `30`."
   ]
  }
 ],
 "metadata": {
  "kernelspec": {
   "display_name": "Python 3",
   "language": "python",
   "name": "python3"
  },
  "language_info": {
   "codemirror_mode": {
    "name": "ipython",
    "version": 3
   },
   "file_extension": ".py",
   "mimetype": "text/x-python",
   "name": "python",
   "nbconvert_exporter": "python",
   "pygments_lexer": "ipython3",
   "version": "3.8.3"
  }
 },
 "nbformat": 4,
 "nbformat_minor": 4
}
