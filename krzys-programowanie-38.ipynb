{
 "cells": [
  {
   "cell_type": "markdown",
   "metadata": {},
   "source": [
    "# Zajęcia z programowania\n",
    "\n",
    "## Zadanie 1 - Dostawa\n",
    "\n",
    "Fabryka produkuje 3 typyozdób: a, b i c. \n",
    "\n",
    "Klient określa zamówienie podając kod składający się z liter a,b,c. Kod opisuje, ile ozdób danego rodzaju wchodzi w skład zamówienia. Na przykład kod `baabca`, oznacza, że w skład zamówienia wchodzą trzy ozdoby `a`, dwie `b` i jedna `c`. Zamówienia są realizowane  w kolejności zgłoszenia.\n",
    "\n",
    "Jeśli brakuje danego rodzaju ozdoby do zrealizowania zamówienia, to całe zamówienie zostaje anulowane. \n",
    "\n",
    "Napisz  dwuparametrową  funkcję `dostawa`,  której  pierwszym  parametrem  jest niepusta lista słów reprezentujących zamówienia w kolejności zgłoszeń, a drugim liczba nie mniejsza niż 1 i nie większa niż 250 określająca początkowy  zapas każdego  rodzaju  ozdób.  \n",
    "\n",
    "Wynikiem  funkcji  jest  liczba  zrealizowanych zamówień.\n",
    "\n",
    "### Przykłady:\n",
    "\n",
    "- Wynikiem `dostawa([\"abac\", \"baaba\", \"acac\", \"babc\"], 6)` jest `3`. Nie może być zrealizowane trzecie zamówienie, ponieważ zabraknie ozdób typu a.\n",
    "- Wynikiem `dostawa([\"abc\",\"abaa\", \"caa\", \"bbbcc\", \"cac\",\"abc\"], 5)` jest `4`. Nie może być zrealizowane zamówienie trzecie (zabraknie `a`) i szóste.\n",
    "\n",
    "![](./all/grafy/etap3-2019-zad3.png)\n",
    "\n",
    "![](./all/zliczanie/pieklo-niebo.png)"
   ]
  }
 ],
 "metadata": {
  "kernelspec": {
   "display_name": "Python 3",
   "language": "python",
   "name": "python3"
  },
  "language_info": {
   "codemirror_mode": {
    "name": "ipython",
    "version": 3
   },
   "file_extension": ".py",
   "mimetype": "text/x-python",
   "name": "python",
   "nbconvert_exporter": "python",
   "pygments_lexer": "ipython3",
   "version": "3.8.3"
  }
 },
 "nbformat": 4,
 "nbformat_minor": 4
}
