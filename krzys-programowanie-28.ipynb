{
 "cells": [
  {
   "cell_type": "markdown",
   "metadata": {},
   "source": [
    "# Zajęcia z programowania 28\n",
    "\n",
    "Poniżej przedstawione jest rozwiązanie zadanie z Logii z celowo wstawionymi błędami. Należy przeanalizować rozwiązanie i znaleźć miejsca, w których kod nie działa.\n",
    "\n",
    "## Zadanie 1 - litery\n",
    "\n",
    "Napisz jednoparametrową funkcję litera,której parametrem jest niepusta lista słów składających się z małych liter alfabetu łacińskiego. Wynikiem funkcji jest ta litera, która występuje najczęściej. Jeśli jest więcej niż jedna taka litera, to wynikiem funkcji jest uporządkowana rosnąco lista liter mających tę własność. \n",
    "\n",
    "Przykłady:\n",
    "- wynikiem `litera(['ala','ma','kota'])` jest `'a'`, \n",
    "- wynikiem `litera(['julka','lubi','psy'])` jest `['l','u']`.\n",
    "\n",
    "\n"
   ]
  },
  {
   "cell_type": "code",
   "execution_count": 5,
   "metadata": {},
   "outputs": [
    {
     "ename": "TypeError",
     "evalue": "must be str, not int",
     "output_type": "error",
     "traceback": [
      "\u001b[1;31m---------------------------------------------------------------------------\u001b[0m",
      "\u001b[1;31mTypeError\u001b[0m                                 Traceback (most recent call last)",
      "\u001b[1;32m<ipython-input-5-795cbd792dc2>\u001b[0m in \u001b[0;36m<module>\u001b[1;34m\u001b[0m\n\u001b[0;32m     29\u001b[0m \u001b[1;33m\u001b[0m\u001b[0m\n\u001b[0;32m     30\u001b[0m \u001b[1;31m# nie działa :(((\u001b[0m\u001b[1;33m\u001b[0m\u001b[1;33m\u001b[0m\u001b[1;33m\u001b[0m\u001b[0m\n\u001b[1;32m---> 31\u001b[1;33m \u001b[1;32massert\u001b[0m \u001b[0mlitera\u001b[0m\u001b[1;33m(\u001b[0m\u001b[1;33m[\u001b[0m\u001b[1;34m'ala'\u001b[0m\u001b[1;33m,\u001b[0m \u001b[1;34m'ma'\u001b[0m\u001b[1;33m,\u001b[0m \u001b[1;34m'kota'\u001b[0m\u001b[1;33m]\u001b[0m\u001b[1;33m)\u001b[0m \u001b[1;33m==\u001b[0m \u001b[1;34m'a'\u001b[0m\u001b[1;33m\u001b[0m\u001b[1;33m\u001b[0m\u001b[0m\n\u001b[0m\u001b[0;32m     32\u001b[0m \u001b[1;32massert\u001b[0m \u001b[0mlitera\u001b[0m\u001b[1;33m(\u001b[0m\u001b[1;33m[\u001b[0m\u001b[1;34m'julka'\u001b[0m\u001b[1;33m,\u001b[0m \u001b[1;34m'lubi'\u001b[0m\u001b[1;33m,\u001b[0m \u001b[1;34m'psy'\u001b[0m\u001b[1;33m]\u001b[0m\u001b[1;33m)\u001b[0m \u001b[1;33m==\u001b[0m \u001b[1;33m[\u001b[0m\u001b[1;34m'l'\u001b[0m\u001b[1;33m,\u001b[0m \u001b[1;34m'u'\u001b[0m\u001b[1;33m]\u001b[0m\u001b[1;33m\u001b[0m\u001b[1;33m\u001b[0m\u001b[0m\n",
      "\u001b[1;32m<ipython-input-5-795cbd792dc2>\u001b[0m in \u001b[0;36mlitera\u001b[1;34m(lista)\u001b[0m\n\u001b[0;32m      9\u001b[0m     \u001b[0mmaks\u001b[0m \u001b[1;33m=\u001b[0m \u001b[1;36m0\u001b[0m\u001b[1;33m\u001b[0m\u001b[1;33m\u001b[0m\u001b[0m\n\u001b[0;32m     10\u001b[0m     \u001b[1;32mfor\u001b[0m \u001b[0mi\u001b[0m \u001b[1;32min\u001b[0m \u001b[0mrange\u001b[0m\u001b[1;33m(\u001b[0m\u001b[0mord\u001b[0m\u001b[1;33m(\u001b[0m\u001b[1;34m'a'\u001b[0m\u001b[1;33m)\u001b[0m\u001b[1;33m,\u001b[0m \u001b[0mord\u001b[0m\u001b[1;33m(\u001b[0m\u001b[1;34m'z'\u001b[0m\u001b[1;33m)\u001b[0m\u001b[1;33m+\u001b[0m\u001b[1;36m1\u001b[0m\u001b[1;33m)\u001b[0m\u001b[1;33m:\u001b[0m\u001b[1;33m\u001b[0m\u001b[1;33m\u001b[0m\u001b[0m\n\u001b[1;32m---> 11\u001b[1;33m         \u001b[0mile\u001b[0m \u001b[1;33m=\u001b[0m \u001b[0mduze_slowo\u001b[0m\u001b[1;33m.\u001b[0m\u001b[0mcount\u001b[0m\u001b[1;33m(\u001b[0m\u001b[0mi\u001b[0m\u001b[1;33m)\u001b[0m\u001b[1;33m\u001b[0m\u001b[1;33m\u001b[0m\u001b[0m\n\u001b[0m\u001b[0;32m     12\u001b[0m         \u001b[1;32mif\u001b[0m \u001b[0mile\u001b[0m \u001b[1;33m>\u001b[0m \u001b[0mmaks\u001b[0m\u001b[1;33m:\u001b[0m\u001b[1;33m\u001b[0m\u001b[1;33m\u001b[0m\u001b[0m\n\u001b[0;32m     13\u001b[0m             \u001b[0mile\u001b[0m \u001b[1;33m=\u001b[0m \u001b[0mmaks\u001b[0m\u001b[1;33m\u001b[0m\u001b[1;33m\u001b[0m\u001b[0m\n",
      "\u001b[1;31mTypeError\u001b[0m: must be str, not int"
     ]
    }
   ],
   "source": [
    "def litera(lista):\n",
    "    # tworzymy jedno duze slowo z malych\n",
    "    duze_slowo = ''\n",
    "    for i in range(len(lista)):\n",
    "        slowo = lista[i]\n",
    "        duze_slowo += slowo\n",
    "\n",
    "    # znajdujemy ile razy powtarza się najczęstsza litera\n",
    "    maks = 0\n",
    "    for i in range(ord('a'), ord('z')+1):\n",
    "        ile = duze_slowo.count(i)\n",
    "        if ile > maks:\n",
    "            ile = maks\n",
    "\n",
    "    # zapisujemy litery o najczęstszej liczbie powtórzeń\n",
    "    tab = []\n",
    "    for i in range(ord('a'), ord('z')+1):\n",
    "        ile = duze_slowo.count(i)\n",
    "        if ile == maks:\n",
    "            tab += chr(i)\n",
    "\n",
    "    if len(tab) == 1:\n",
    "        # jeśli był tylko jeden taki element, zwracamy go\n",
    "        return tab[0]\n",
    "    else:\n",
    "        # jeśli było więcej takich elementów, zwracamy tablicę\n",
    "        return tab\n",
    "\n",
    "\n",
    "# nie działa :(((\n",
    "assert litera(['ala', 'ma', 'kota']) == 'a'\n",
    "assert litera(['julka', 'lubi', 'psy']) == ['l', 'u']"
   ]
  }
 ],
 "metadata": {
  "kernelspec": {
   "display_name": "Python 3",
   "language": "python",
   "name": "python3"
  },
  "language_info": {
   "codemirror_mode": {
    "name": "ipython",
    "version": 3
   },
   "file_extension": ".py",
   "mimetype": "text/x-python",
   "name": "python",
   "nbconvert_exporter": "python",
   "pygments_lexer": "ipython3",
   "version": "3.8.5"
  }
 },
 "nbformat": 4,
 "nbformat_minor": 4
}
