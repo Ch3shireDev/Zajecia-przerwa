{
 "cells": [
  {
   "cell_type": "markdown",
   "id": "processed-thumbnail",
   "metadata": {},
   "source": [
    "# Zadanie 1 - Plotkarska Pola\n",
    "\n",
    "Pola lubi plotkować - opowiadać historie które w założeniu mają dotrzeć do jak największej grupy osób w szkole. Pola, jako inteligentna dziewczynka, odkryła że jeśli chce aby jakaś plotka dotarła do możliwie największej grupy osób, wystarczy że opowie ją kilku osobom, te natomiast przekażą już opowieść dalej swoim znajomym. Pola zastanawia się jaka jest minimalna liczba osób którym musi przekazać plotkę, aby rozeszła się do jak największej grupy osób.\n",
    "\n",
    "Stwórz funkcję `pola(relacje)` która przyjmuje na wejściu listę par liczb, natomiast na wyjściu zwraca minimalną liczbę osób którym Pola powinna przekazać plotkę by usłyszeli o niej wszyscy. Pary liczb w liście `relacje` oznaczają kto kogo informuje o plotce. Na przykład lista:\n",
    "\n",
    "`[(1,2), (2,4), (4,8), (4,5), (9,10)]` \n",
    "\n",
    "oznacza, że jeśli Pola opowie plotkę osobie numer `1` to ta przekaże ją do osoby numer `2`, osoba numer `2` przekaże ją do osoby numer `4`, a osoba numer `4` - do osoby numer `8` oraz `5`. Osoba numer `10` nie dowie się o plotce jeśli Pola nie poinformuje osoby numer `9`, lub nie powie jej bezpośrednio.\n",
    "\n",
    "Uwaga - para `(1,2)` oznacza, że osoba numer 1 przekazuje plotkę osobie numer 2, ale już nie na odwrót.\n",
    "\n",
    "## Przykłady\n",
    "\n",
    "- `pola([(1,2), (2,4), (4,8), (4,5), (9,10)])` zwraca wartość `2` (Pola musi powiedzieć plotkę osobie numer 1 i osobie numer 9 by dotarła do wszystkich).\n",
    "- `pola([(3,8), (8,2), (5,3), (4,5), (6,1), (7,10) ])` zwraca wartość 3 (Pola musi powiedzieć plotkę osobom numer `4`, `6` oraz `7` aby dotarła ona do wszystkich)."
   ]
  },
  {
   "cell_type": "markdown",
   "id": "equal-slovak",
   "metadata": {},
   "source": [
    "# Zadanie 2 - szyfr doskonały\n",
    "\n",
    "Koncept szyfru doskonałego opiera się na założeniu, że jeśli klucz jest wygenerowanym ciągiem losowych zer i jedynek, to po dodaniu klucza do wiadomości o tej samej długości nie można odzyskać wiadomości bez posiadania oryginalnego klucza - próba sprawdzenia wszystkich możliwych kluczy skończyłaby się wygenerowaniem wszystkich możliwych wiadomości, co sprawia że kryptoanalityk nie jest w stanie zweryfikować poprawności znalezionego klucza.\n",
    "\n",
    "Proces szyfrowania możemy przeprowadzić w następujący sposób - każdej małej literze alfabetu łacińskiego przypiszemy pięciocyfrowe wartości binarne od 1 do 26. Spacji przypiszemy wartość binarną 0. Wartości od 27 do 31 to będą, odpowiednio: `.,!?;` (kropka, przecinek, wykrzyknik, znak zapytania, średnik). Zatem:\n",
    "\n",
    "- `' '` reprezentowane jest jako `00000`,\n",
    "- `'a'` reprezentowane jest jako `00001`,\n",
    "- `'b'` reprezentowane jest jako `00010`,\n",
    "- `'c'` reprezentowane jest jako `00011`,\n",
    "- ...\n",
    "- `'x'` reprezentowane jest jako `11000`.\n",
    "- `'y'` reprezentowane jest jako `11001`.\n",
    "- `'z'` reprezentowane jest jako `11010`.\n",
    "- `'.'` reprezentowane jest jako `11011`.\n",
    "- `','` reprezentowane jest jako `11100`.\n",
    "- `'!'` reprezentowane jest jako `11101`.\n",
    "- `'?'` reprezentowane jest jako `11110`.\n",
    "- `';'` reprezentowane jest jako `11111`.\n",
    "\n",
    "Do wejściowej wiadomości w postaci binarnej będzie dodawany poprzez operację bitową XOR klucz wiadomości, bit po bicie. XOR definiowany jest następująco:\n",
    "\n",
    "- `0 + 0 = 0`\n",
    "- `1 + 0 = 1`\n",
    "- `0 + 1 = 1`\n",
    "- `1 + 1 = 0`\n",
    "\n",
    "Zatem dwie liczby `a = 1100`, `b = 0110` poprzez operację XOR dodają się do wartości `1010` w następujący sposób:\n",
    "\n",
    "- pierwsza cyfra `a` oraz pierwsza cyfra `b` to `1` oraz `0`, ich suma to `1`.\n",
    "- druga cyfra `a` oraz druga cyfra `b` to `1` oraz `1`, ich suma to `0`.\n",
    "- trzecia cyfra `a` oraz trzecia cyfra `b` to `0` oraz `1`, ich suma to `1`.\n",
    "- czwarta cyfra `a` oraz czwarta cyfra `b` to `0` oraz `0`, ich suma to `0`.\n",
    "\n",
    "Następnie tak uzyskana wiadomość będzie zwracana przez funkcję `szyfr_doskonaly(wiadomosc, klucz)`.\n",
    "\n",
    "## Przykłady\n",
    "\n",
    "- `szyfr_doskonaly('abc', 'xyz')` zwraca `y.y` (`00001 00010 00011` + `11000 11001 11010` = `11001 11011 11001`)\n",
    "\n",
    "- `szyfr_doskonaly('y.y', 'xyz')` zwraca `abc` (`11001 11011 11001` + `11000 11001 11010` = `00001 00010 00011`)"
   ]
  },
  {
   "cell_type": "markdown",
   "id": "upper-frame",
   "metadata": {},
   "source": [
    "# Zadanie 3 - złote liczby\n",
    "\n",
    "Jaś bawi się liczbami. Odkrył, że każdą liczbę parzystą większą od dwóch można rozłożyć na sumę przynajmniej jednej pary liczb pierwszych. Jasia zastanawia na ile sposobów można rozłożyć daną liczbę na sumę dwóch liczb, oraz jaka liczba dodatnia parzysta poniżej danej liczby `n` jest rekordzistką w tym zakresie, tj. rozkłada się na najwięcej różnych sum par liczb pierwszych. Jeśli takich liczb jest kilka, funkcja zwraca najniższą z nich.\n",
    "\n",
    "Napisz funkcję `zlota(n)`, która dla danej liczby `n` mniejszej od 10000 zwróci taką liczbę parzystą, która rozkłada się na największą możliwą liczbę par liczb pierwszych. Uwaga - pary dwóch liczb w odwróconych kolejnościach, np. `(3,5)` oraz `(5,3)` są traktowane jako jedna para. Postaraj się, by kod nie wykonywał się zbyt długo.\n",
    "\n",
    "## Przykłady\n",
    "\n",
    "- `zlota(20)` zwraca `10` (rozkład na dwie pary: `(3,7)` oraz `(5,5)`).\n",
    "- `zlota(100)` zwraca `90` (rozkład na pary: `(7, 83), (11, 79), (17 73),(19, 71),(23, 67), (29, 61),(31, 59),(37, 53),(43, 47)`)."
   ]
  }
 ],
 "metadata": {
  "kernelspec": {
   "display_name": "Python 3",
   "language": "python",
   "name": "python3"
  },
  "language_info": {
   "codemirror_mode": {
    "name": "ipython",
    "version": 3
   },
   "file_extension": ".py",
   "mimetype": "text/x-python",
   "name": "python",
   "nbconvert_exporter": "python",
   "pygments_lexer": "ipython3",
   "version": "3.9.1"
  }
 },
 "nbformat": 4,
 "nbformat_minor": 5
}
