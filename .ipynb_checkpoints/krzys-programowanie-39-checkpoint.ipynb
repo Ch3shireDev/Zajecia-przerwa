{
 "cells": [
  {
   "cell_type": "markdown",
   "metadata": {},
   "source": [
    "# Zajęcia 39\n",
    "\n",
    "## Zadanie 1 - ścieżka o maksymalnej sumie\n",
    "\n",
    "![](max-tri-1.png)"
   ]
  },
  {
   "cell_type": "markdown",
   "metadata": {},
   "source": [
    "## Zadanie 2 - wersja rozszerzona\n",
    "\n",
    "[link](https://projecteuler.net/problem=67)"
   ]
  }
 ],
 "metadata": {
  "kernelspec": {
   "display_name": "Python 3",
   "language": "python",
   "name": "python3"
  },
  "language_info": {
   "codemirror_mode": {
    "name": "ipython",
    "version": 3
   },
   "file_extension": ".py",
   "mimetype": "text/x-python",
   "name": "python",
   "nbconvert_exporter": "python",
   "pygments_lexer": "ipython3",
   "version": "3.9.1"
  }
 },
 "nbformat": 4,
 "nbformat_minor": 4
}
